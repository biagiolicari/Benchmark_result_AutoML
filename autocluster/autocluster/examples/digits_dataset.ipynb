{
 "cells": [
  {
   "cell_type": "code",
   "execution_count": 1,
   "metadata": {},
   "outputs": [],
   "source": [
    "import os\n",
    "\n",
    "# change working directory, run this cell once\n",
    "os.chdir(\"../../\")\n",
    "\n",
    "# supress warnings\n",
    "import warnings\n",
    "warnings.filterwarnings(\"ignore\")"
   ]
  },
  {
   "cell_type": "markdown",
   "metadata": {},
   "source": [
    "This notebook will demonstrate how to use Bayesian Optimization + Warmstarting to fit handwritten digits dataset.\n",
    "\n",
    "### Import packages"
   ]
  },
  {
   "cell_type": "code",
   "execution_count": 5,
   "metadata": {},
   "outputs": [
    {
     "name": "stdout",
     "output_type": "stream",
     "text": [
      "The autoreload extension is already loaded. To reload it, use:\n",
      "  %reload_ext autoreload\n"
     ]
    }
   ],
   "source": [
    "import autocluster\n",
    "from autocluster import AutoCluster, get_evaluator, MetafeatureMapper\n",
    "from sklearn import datasets\n",
    "from collections import Counter\n",
    "from sklearn.metrics.cluster import v_measure_score\n",
    "import pandas as pd\n",
    "\n",
    "%load_ext autoreload\n",
    "%autoreload 2"
   ]
  },
  {
   "cell_type": "code",
   "execution_count": 6,
   "metadata": {},
   "outputs": [
    {
     "data": {
      "text/html": [
       "<div>\n",
       "<style scoped>\n",
       "    .dataframe tbody tr th:only-of-type {\n",
       "        vertical-align: middle;\n",
       "    }\n",
       "\n",
       "    .dataframe tbody tr th {\n",
       "        vertical-align: top;\n",
       "    }\n",
       "\n",
       "    .dataframe thead th {\n",
       "        text-align: right;\n",
       "    }\n",
       "</style>\n",
       "<table border=\"1\" class=\"dataframe\">\n",
       "  <thead>\n",
       "    <tr style=\"text-align: right;\">\n",
       "      <th></th>\n",
       "      <th>0</th>\n",
       "      <th>1</th>\n",
       "      <th>2</th>\n",
       "      <th>3</th>\n",
       "      <th>4</th>\n",
       "      <th>5</th>\n",
       "      <th>6</th>\n",
       "      <th>7</th>\n",
       "      <th>8</th>\n",
       "      <th>9</th>\n",
       "      <th>...</th>\n",
       "      <th>54</th>\n",
       "      <th>55</th>\n",
       "      <th>56</th>\n",
       "      <th>57</th>\n",
       "      <th>58</th>\n",
       "      <th>59</th>\n",
       "      <th>60</th>\n",
       "      <th>61</th>\n",
       "      <th>62</th>\n",
       "      <th>63</th>\n",
       "    </tr>\n",
       "  </thead>\n",
       "  <tbody>\n",
       "    <tr>\n",
       "      <th>0</th>\n",
       "      <td>0.0</td>\n",
       "      <td>0.0</td>\n",
       "      <td>5.0</td>\n",
       "      <td>13.0</td>\n",
       "      <td>9.0</td>\n",
       "      <td>1.0</td>\n",
       "      <td>0.0</td>\n",
       "      <td>0.0</td>\n",
       "      <td>0.0</td>\n",
       "      <td>0.0</td>\n",
       "      <td>...</td>\n",
       "      <td>0.0</td>\n",
       "      <td>0.0</td>\n",
       "      <td>0.0</td>\n",
       "      <td>0.0</td>\n",
       "      <td>6.0</td>\n",
       "      <td>13.0</td>\n",
       "      <td>10.0</td>\n",
       "      <td>0.0</td>\n",
       "      <td>0.0</td>\n",
       "      <td>0.0</td>\n",
       "    </tr>\n",
       "    <tr>\n",
       "      <th>1</th>\n",
       "      <td>0.0</td>\n",
       "      <td>0.0</td>\n",
       "      <td>0.0</td>\n",
       "      <td>12.0</td>\n",
       "      <td>13.0</td>\n",
       "      <td>5.0</td>\n",
       "      <td>0.0</td>\n",
       "      <td>0.0</td>\n",
       "      <td>0.0</td>\n",
       "      <td>0.0</td>\n",
       "      <td>...</td>\n",
       "      <td>0.0</td>\n",
       "      <td>0.0</td>\n",
       "      <td>0.0</td>\n",
       "      <td>0.0</td>\n",
       "      <td>0.0</td>\n",
       "      <td>11.0</td>\n",
       "      <td>16.0</td>\n",
       "      <td>10.0</td>\n",
       "      <td>0.0</td>\n",
       "      <td>0.0</td>\n",
       "    </tr>\n",
       "    <tr>\n",
       "      <th>2</th>\n",
       "      <td>0.0</td>\n",
       "      <td>0.0</td>\n",
       "      <td>0.0</td>\n",
       "      <td>4.0</td>\n",
       "      <td>15.0</td>\n",
       "      <td>12.0</td>\n",
       "      <td>0.0</td>\n",
       "      <td>0.0</td>\n",
       "      <td>0.0</td>\n",
       "      <td>0.0</td>\n",
       "      <td>...</td>\n",
       "      <td>5.0</td>\n",
       "      <td>0.0</td>\n",
       "      <td>0.0</td>\n",
       "      <td>0.0</td>\n",
       "      <td>0.0</td>\n",
       "      <td>3.0</td>\n",
       "      <td>11.0</td>\n",
       "      <td>16.0</td>\n",
       "      <td>9.0</td>\n",
       "      <td>0.0</td>\n",
       "    </tr>\n",
       "    <tr>\n",
       "      <th>3</th>\n",
       "      <td>0.0</td>\n",
       "      <td>0.0</td>\n",
       "      <td>7.0</td>\n",
       "      <td>15.0</td>\n",
       "      <td>13.0</td>\n",
       "      <td>1.0</td>\n",
       "      <td>0.0</td>\n",
       "      <td>0.0</td>\n",
       "      <td>0.0</td>\n",
       "      <td>8.0</td>\n",
       "      <td>...</td>\n",
       "      <td>9.0</td>\n",
       "      <td>0.0</td>\n",
       "      <td>0.0</td>\n",
       "      <td>0.0</td>\n",
       "      <td>7.0</td>\n",
       "      <td>13.0</td>\n",
       "      <td>13.0</td>\n",
       "      <td>9.0</td>\n",
       "      <td>0.0</td>\n",
       "      <td>0.0</td>\n",
       "    </tr>\n",
       "    <tr>\n",
       "      <th>4</th>\n",
       "      <td>0.0</td>\n",
       "      <td>0.0</td>\n",
       "      <td>0.0</td>\n",
       "      <td>1.0</td>\n",
       "      <td>11.0</td>\n",
       "      <td>0.0</td>\n",
       "      <td>0.0</td>\n",
       "      <td>0.0</td>\n",
       "      <td>0.0</td>\n",
       "      <td>0.0</td>\n",
       "      <td>...</td>\n",
       "      <td>0.0</td>\n",
       "      <td>0.0</td>\n",
       "      <td>0.0</td>\n",
       "      <td>0.0</td>\n",
       "      <td>0.0</td>\n",
       "      <td>2.0</td>\n",
       "      <td>16.0</td>\n",
       "      <td>4.0</td>\n",
       "      <td>0.0</td>\n",
       "      <td>0.0</td>\n",
       "    </tr>\n",
       "  </tbody>\n",
       "</table>\n",
       "<p>5 rows × 64 columns</p>\n",
       "</div>"
      ],
      "text/plain": [
       "    0    1    2     3     4     5    6    7    8    9   ...   54   55   56  \\\n",
       "0  0.0  0.0  5.0  13.0   9.0   1.0  0.0  0.0  0.0  0.0  ...  0.0  0.0  0.0   \n",
       "1  0.0  0.0  0.0  12.0  13.0   5.0  0.0  0.0  0.0  0.0  ...  0.0  0.0  0.0   \n",
       "2  0.0  0.0  0.0   4.0  15.0  12.0  0.0  0.0  0.0  0.0  ...  5.0  0.0  0.0   \n",
       "3  0.0  0.0  7.0  15.0  13.0   1.0  0.0  0.0  0.0  8.0  ...  9.0  0.0  0.0   \n",
       "4  0.0  0.0  0.0   1.0  11.0   0.0  0.0  0.0  0.0  0.0  ...  0.0  0.0  0.0   \n",
       "\n",
       "    57   58    59    60    61   62   63  \n",
       "0  0.0  6.0  13.0  10.0   0.0  0.0  0.0  \n",
       "1  0.0  0.0  11.0  16.0  10.0  0.0  0.0  \n",
       "2  0.0  0.0   3.0  11.0  16.0  9.0  0.0  \n",
       "3  0.0  7.0  13.0  13.0   9.0  0.0  0.0  \n",
       "4  0.0  0.0   2.0  16.0   4.0  0.0  0.0  \n",
       "\n",
       "[5 rows x 64 columns]"
      ]
     },
     "execution_count": 6,
     "metadata": {},
     "output_type": "execute_result"
    }
   ],
   "source": [
    "df = pd.DataFrame(datasets.load_digits(n_class=6)['data'])\n",
    "df.head(5)"
   ]
  },
  {
   "cell_type": "code",
   "execution_count": 1,
   "metadata": {},
   "outputs": [
    {
     "ename": "NameError",
     "evalue": "name 'df' is not defined",
     "output_type": "error",
     "traceback": [
      "\u001b[0;31m---------------------------------------------------------------------------\u001b[0m",
      "\u001b[0;31mNameError\u001b[0m                                 Traceback (most recent call last)",
      "Cell \u001b[0;32mIn[1], line 1\u001b[0m\n\u001b[0;32m----> 1\u001b[0m df\u001b[39m.\u001b[39mcolumns\n",
      "\u001b[0;31mNameError\u001b[0m: name 'df' is not defined"
     ]
    }
   ],
   "source": [
    "df.columns"
   ]
  },
  {
   "cell_type": "markdown",
   "metadata": {},
   "source": [
    "We will be using the handwritten digits dataset from ``sklearn.dataset`` with 6 classes. \n",
    "\n",
    "### Fitting a clustering model using Bayesian Optimization (SMAC) + Warmstarting (Metalearning)\n",
    "Before using the warmstarter, you need to:\n",
    "1. Clone this repository\n",
    "2. Copy the ``experiments`` folder and place it into your current working directory."
   ]
  },
  {
   "cell_type": "code",
   "execution_count": 9,
   "metadata": {},
   "outputs": [
    {
     "name": "stdout",
     "output_type": "stream",
     "text": [
      "871/1083 datapoints remaining after outlier removal\n",
      "Found 26 relevant intial configurations from warmstarter.\n",
      "Truncated n_evaluations: 40\n",
      "Fitting configuration: \n",
      "{'branching_factor___Birch': 291, 'dim_reduction_choice': 'TruncatedSVD', 'n_clusters___Birch': 45, 'clustering_choice': 'Birch', 'algorithm___TruncatedSVD': 'randomized', 'n_components___TruncatedSVD': 9}\n",
      "Score obtained by this configuration: inf\n"
     ]
    },
    {
     "name": "stderr",
     "output_type": "stream",
     "text": [
      "Target Algorithm returned NaN or inf as quality. Algorithm run is treated as CRASHED, cost is set to 2147483647.0 for quality scenarios. (Change value through \"cost_for_crash\"-option.)\n"
     ]
    },
    {
     "name": "stdout",
     "output_type": "stream",
     "text": [
      "Fitting configuration: \n",
      "{'branching_factor___Birch': 74, 'dim_reduction_choice': 'TruncatedSVD', 'n_clusters___Birch': 71, 'clustering_choice': 'Birch', 'algorithm___TruncatedSVD': 'randomized', 'n_components___TruncatedSVD': 6}\n",
      "Score obtained by this configuration: inf\n"
     ]
    },
    {
     "name": "stderr",
     "output_type": "stream",
     "text": [
      "Target Algorithm returned NaN or inf as quality. Algorithm run is treated as CRASHED, cost is set to 2147483647.0 for quality scenarios. (Change value through \"cost_for_crash\"-option.)\n"
     ]
    },
    {
     "name": "stdout",
     "output_type": "stream",
     "text": [
      "Fitting configuration: \n",
      "{'branching_factor___Birch': 55, 'dim_reduction_choice': 'TruncatedSVD', 'n_clusters___Birch': 78, 'clustering_choice': 'Birch', 'algorithm___TruncatedSVD': 'randomized', 'n_components___TruncatedSVD': 8}\n",
      "Score obtained by this configuration: inf\n"
     ]
    },
    {
     "name": "stderr",
     "output_type": "stream",
     "text": [
      "Target Algorithm returned NaN or inf as quality. Algorithm run is treated as CRASHED, cost is set to 2147483647.0 for quality scenarios. (Change value through \"cost_for_crash\"-option.)\n"
     ]
    },
    {
     "name": "stdout",
     "output_type": "stream",
     "text": [
      "Fitting configuration: \n",
      "{'branching_factor___Birch': 814, 'dim_reduction_choice': 'KernelPCA', 'n_components___KernelPCA': 7, 'n_clusters___Birch': 40, 'kernel___KernelPCA': 'linear', 'clustering_choice': 'Birch'}\n",
      "Score obtained by this configuration: inf\n"
     ]
    },
    {
     "name": "stderr",
     "output_type": "stream",
     "text": [
      "Target Algorithm returned NaN or inf as quality. Algorithm run is treated as CRASHED, cost is set to 2147483647.0 for quality scenarios. (Change value through \"cost_for_crash\"-option.)\n"
     ]
    },
    {
     "name": "stdout",
     "output_type": "stream",
     "text": [
      "Fitting configuration: \n",
      "{'branching_factor___Birch': 227, 'dim_reduction_choice': 'TruncatedSVD', 'n_clusters___Birch': 46, 'clustering_choice': 'Birch', 'algorithm___TruncatedSVD': 'randomized', 'n_components___TruncatedSVD': 7}\n",
      "Score obtained by this configuration: inf\n"
     ]
    },
    {
     "name": "stderr",
     "output_type": "stream",
     "text": [
      "Target Algorithm returned NaN or inf as quality. Algorithm run is treated as CRASHED, cost is set to 2147483647.0 for quality scenarios. (Change value through \"cost_for_crash\"-option.)\n"
     ]
    },
    {
     "name": "stdout",
     "output_type": "stream",
     "text": [
      "Fitting configuration: \n",
      "{'branching_factor___Birch': 149, 'dim_reduction_choice': 'TruncatedSVD', 'n_clusters___Birch': 38, 'clustering_choice': 'Birch', 'algorithm___TruncatedSVD': 'randomized', 'n_components___TruncatedSVD': 5}\n",
      "Score obtained by this configuration: inf\n"
     ]
    },
    {
     "name": "stderr",
     "output_type": "stream",
     "text": [
      "Target Algorithm returned NaN or inf as quality. Algorithm run is treated as CRASHED, cost is set to 2147483647.0 for quality scenarios. (Change value through \"cost_for_crash\"-option.)\n"
     ]
    },
    {
     "name": "stdout",
     "output_type": "stream",
     "text": [
      "Fitting configuration: \n",
      "{'branching_factor___Birch': 64, 'dim_reduction_choice': 'KernelPCA', 'n_components___KernelPCA': 8, 'n_clusters___Birch': 25, 'kernel___KernelPCA': 'linear', 'clustering_choice': 'Birch'}\n",
      "Score obtained by this configuration: inf\n"
     ]
    },
    {
     "name": "stderr",
     "output_type": "stream",
     "text": [
      "Target Algorithm returned NaN or inf as quality. Algorithm run is treated as CRASHED, cost is set to 2147483647.0 for quality scenarios. (Change value through \"cost_for_crash\"-option.)\n"
     ]
    },
    {
     "name": "stdout",
     "output_type": "stream",
     "text": [
      "Fitting configuration: \n",
      "{'branching_factor___Birch': 857, 'dim_reduction_choice': 'IncrementalPCA', 'batch_size___IncrementalPCA': 748, 'n_clusters___Birch': 59, 'clustering_choice': 'Birch', 'n_components___IncrementalPCA': 3}\n",
      "Score obtained by this configuration: inf\n"
     ]
    },
    {
     "name": "stderr",
     "output_type": "stream",
     "text": [
      "Target Algorithm returned NaN or inf as quality. Algorithm run is treated as CRASHED, cost is set to 2147483647.0 for quality scenarios. (Change value through \"cost_for_crash\"-option.)\n"
     ]
    },
    {
     "name": "stdout",
     "output_type": "stream",
     "text": [
      "Fitting configuration: \n",
      "{'dim_reduction_choice': 'KernelPCA', 'linkage___AgglomerativeClustering': 'complete', 'affinity___AgglomerativeClustering': 'euclidean', 'kernel___KernelPCA': 'rbf', 'clustering_choice': 'AgglomerativeClustering', 'n_clusters___AgglomerativeClustering': 7, 'n_components___KernelPCA': 6}\n",
      "Score obtained by this configuration: 0.27981443645008397\n",
      "Fitting configuration: \n",
      "{'dim_reduction_choice': 'KernelPCA', 'linkage___AgglomerativeClustering': 'single', 'affinity___AgglomerativeClustering': 'euclidean', 'kernel___KernelPCA': 'rbf', 'clustering_choice': 'AgglomerativeClustering', 'n_clusters___AgglomerativeClustering': 6, 'n_components___KernelPCA': 4}\n",
      "Score obtained by this configuration: inf\n"
     ]
    },
    {
     "name": "stderr",
     "output_type": "stream",
     "text": [
      "Target Algorithm returned NaN or inf as quality. Algorithm run is treated as CRASHED, cost is set to 2147483647.0 for quality scenarios. (Change value through \"cost_for_crash\"-option.)\n"
     ]
    },
    {
     "name": "stdout",
     "output_type": "stream",
     "text": [
      "Fitting configuration: \n",
      "{'dim_reduction_choice': 'KernelPCA', 'linkage___AgglomerativeClustering': 'single', 'affinity___AgglomerativeClustering': 'l2', 'kernel___KernelPCA': 'rbf', 'clustering_choice': 'AgglomerativeClustering', 'n_clusters___AgglomerativeClustering': 7, 'n_components___KernelPCA': 4}\n",
      "Score obtained by this configuration: inf\n"
     ]
    },
    {
     "name": "stderr",
     "output_type": "stream",
     "text": [
      "Target Algorithm returned NaN or inf as quality. Algorithm run is treated as CRASHED, cost is set to 2147483647.0 for quality scenarios. (Change value through \"cost_for_crash\"-option.)\n"
     ]
    },
    {
     "name": "stdout",
     "output_type": "stream",
     "text": [
      "Fitting configuration: \n",
      "{'branching_factor___Birch': 91, 'dim_reduction_choice': 'TSNE', 'early_exaggeration___TSNE': 12.0, 'n_clusters___Birch': 6, 'perplexity___TSNE': 84.03630134401256, 'clustering_choice': 'Birch', 'n_components___TSNE': 2}\n",
      "Score obtained by this configuration: 0.25396819909413654\n",
      "Fitting configuration: \n",
      "{'dim_reduction_choice': 'TSNE', 'linkage___AgglomerativeClustering': 'average', 'affinity___AgglomerativeClustering': 'cityblock', 'early_exaggeration___TSNE': 7.471032321220759, 'perplexity___TSNE': 175.48390215534172, 'clustering_choice': 'AgglomerativeClustering', 'n_clusters___AgglomerativeClustering': 9, 'n_components___TSNE': 2}\n",
      "Score obtained by this configuration: inf\n"
     ]
    },
    {
     "name": "stderr",
     "output_type": "stream",
     "text": [
      "Target Algorithm returned NaN or inf as quality. Algorithm run is treated as CRASHED, cost is set to 2147483647.0 for quality scenarios. (Change value through \"cost_for_crash\"-option.)\n"
     ]
    },
    {
     "name": "stdout",
     "output_type": "stream",
     "text": [
      "Fitting configuration: \n",
      "{'init_params___GaussianMixture': 'kmeans', 'dim_reduction_choice': 'TSNE', 'early_exaggeration___TSNE': 8.203390083753744, 'perplexity___TSNE': 231.40494920107596, 'clustering_choice': 'GaussianMixture', 'n_components___GaussianMixture': 6, 'covariance_type___GaussianMixture': 'full', 'n_components___TSNE': 2}\n",
      "Score obtained by this configuration: 0.27213286856810254\n",
      "Fitting configuration: \n",
      "{'init_params___GaussianMixture': 'kmeans', 'dim_reduction_choice': 'TSNE', 'early_exaggeration___TSNE': 8.3742023674892, 'perplexity___TSNE': 231.45241399045284, 'clustering_choice': 'GaussianMixture', 'n_components___GaussianMixture': 6, 'covariance_type___GaussianMixture': 'full', 'n_components___TSNE': 2}\n",
      "Score obtained by this configuration: inf\n"
     ]
    },
    {
     "name": "stderr",
     "output_type": "stream",
     "text": [
      "Target Algorithm returned NaN or inf as quality. Algorithm run is treated as CRASHED, cost is set to 2147483647.0 for quality scenarios. (Change value through \"cost_for_crash\"-option.)\n"
     ]
    },
    {
     "name": "stdout",
     "output_type": "stream",
     "text": [
      "Fitting configuration: \n",
      "{'dim_reduction_choice': 'TSNE', 'linkage___AgglomerativeClustering': 'complete', 'affinity___AgglomerativeClustering': 'manhattan', 'early_exaggeration___TSNE': 11.993398613338442, 'perplexity___TSNE': 192.4356661604625, 'clustering_choice': 'AgglomerativeClustering', 'n_clusters___AgglomerativeClustering': 6, 'n_components___TSNE': 2}\n",
      "Score obtained by this configuration: inf\n"
     ]
    },
    {
     "name": "stderr",
     "output_type": "stream",
     "text": [
      "Target Algorithm returned NaN or inf as quality. Algorithm run is treated as CRASHED, cost is set to 2147483647.0 for quality scenarios. (Change value through \"cost_for_crash\"-option.)\n"
     ]
    },
    {
     "name": "stdout",
     "output_type": "stream",
     "text": [
      "Fitting configuration: \n",
      "{'dim_reduction_choice': 'TSNE', 'n_clusters___MiniBatchKMeans': 7, 'early_exaggeration___TSNE': 13.048424472811831, 'batch_size___MiniBatchKMeans': 715, 'perplexity___TSNE': 278.53955190071804, 'clustering_choice': 'MiniBatchKMeans', 'n_components___TSNE': 2}\n",
      "Score obtained by this configuration: inf\n"
     ]
    },
    {
     "name": "stderr",
     "output_type": "stream",
     "text": [
      "Target Algorithm returned NaN or inf as quality. Algorithm run is treated as CRASHED, cost is set to 2147483647.0 for quality scenarios. (Change value through \"cost_for_crash\"-option.)\n"
     ]
    },
    {
     "name": "stdout",
     "output_type": "stream",
     "text": [
      "Fitting configuration: \n",
      "{'dim_reduction_choice': 'TSNE', 'n_clusters___MiniBatchKMeans': 7, 'early_exaggeration___TSNE': 10.194958770285634, 'batch_size___MiniBatchKMeans': 967, 'perplexity___TSNE': 190.13168469295235, 'clustering_choice': 'MiniBatchKMeans', 'n_components___TSNE': 2}\n",
      "Score obtained by this configuration: 0.2610407769680023\n",
      "Fitting configuration: \n",
      "{'dim_reduction_choice': 'KernelPCA', 'linkage___AgglomerativeClustering': 'average', 'affinity___AgglomerativeClustering': 'cityblock', 'kernel___KernelPCA': 'cosine', 'clustering_choice': 'AgglomerativeClustering', 'n_clusters___AgglomerativeClustering': 16, 'n_components___KernelPCA': 8}\n",
      "Score obtained by this configuration: inf\n"
     ]
    },
    {
     "name": "stderr",
     "output_type": "stream",
     "text": [
      "Target Algorithm returned NaN or inf as quality. Algorithm run is treated as CRASHED, cost is set to 2147483647.0 for quality scenarios. (Change value through \"cost_for_crash\"-option.)\n"
     ]
    },
    {
     "name": "stdout",
     "output_type": "stream",
     "text": [
      "Fitting configuration: \n",
      "{'dim_reduction_choice': 'TSNE', 'early_exaggeration___TSNE': 12.0, 'n_clusters___KMeans': 5, 'perplexity___TSNE': 30.0, 'clustering_choice': 'KMeans', 'n_components___TSNE': 2}\n",
      "Score obtained by this configuration: 0.22241556644439697\n",
      "Fitting configuration: \n",
      "{'dim_reduction_choice': 'TSNE', 'n_clusters___MiniBatchKMeans': 24, 'early_exaggeration___TSNE': 15.53647548157681, 'batch_size___MiniBatchKMeans': 142, 'perplexity___TSNE': 142.398512912927, 'clustering_choice': 'MiniBatchKMeans', 'n_components___TSNE': 2}\n",
      "Score obtained by this configuration: inf\n"
     ]
    },
    {
     "name": "stderr",
     "output_type": "stream",
     "text": [
      "Target Algorithm returned NaN or inf as quality. Algorithm run is treated as CRASHED, cost is set to 2147483647.0 for quality scenarios. (Change value through \"cost_for_crash\"-option.)\n"
     ]
    },
    {
     "name": "stdout",
     "output_type": "stream",
     "text": [
      "Fitting configuration: \n",
      "{'dim_reduction_choice': 'TSNE', 'n_clusters___MiniBatchKMeans': 72, 'early_exaggeration___TSNE': 10.90353307225767, 'batch_size___MiniBatchKMeans': 971, 'perplexity___TSNE': 44.631321499278506, 'clustering_choice': 'MiniBatchKMeans', 'n_components___TSNE': 2}\n",
      "Score obtained by this configuration: inf\n"
     ]
    },
    {
     "name": "stderr",
     "output_type": "stream",
     "text": [
      "Target Algorithm returned NaN or inf as quality. Algorithm run is treated as CRASHED, cost is set to 2147483647.0 for quality scenarios. (Change value through \"cost_for_crash\"-option.)\n"
     ]
    },
    {
     "name": "stdout",
     "output_type": "stream",
     "text": [
      "Fitting configuration: \n",
      "{'dim_reduction_choice': 'TSNE', 'linkage___AgglomerativeClustering': 'average', 'affinity___AgglomerativeClustering': 'cityblock', 'early_exaggeration___TSNE': 15.989483033735212, 'perplexity___TSNE': 131.58033120399173, 'clustering_choice': 'AgglomerativeClustering', 'n_clusters___AgglomerativeClustering': 32, 'n_components___TSNE': 2}\n",
      "Score obtained by this configuration: inf\n"
     ]
    },
    {
     "name": "stderr",
     "output_type": "stream",
     "text": [
      "WARNING:smac.tae.execute_func.ExecuteTAFuncDict:Target Algorithm returned NaN or inf as quality. Algorithm run is treated as CRASHED, cost is set to 2147483647.0 for quality scenarios. (Change value through \"cost_for_crash\"-option.)\n"
     ]
    },
    {
     "name": "stdout",
     "output_type": "stream",
     "text": [
      "Fitting configuration: \n",
      "{'init_params___GaussianMixture': 'random', 'dim_reduction_choice': 'TSNE', 'early_exaggeration___TSNE': 17.013787797593643, 'perplexity___TSNE': 243.96972791230746, 'clustering_choice': 'GaussianMixture', 'n_components___GaussianMixture': 1, 'covariance_type___GaussianMixture': 'tied', 'n_components___TSNE': 2}\n",
      "Score obtained by this configuration: inf\n"
     ]
    },
    {
     "name": "stderr",
     "output_type": "stream",
     "text": [
      "WARNING:smac.tae.execute_func.ExecuteTAFuncDict:Target Algorithm returned NaN or inf as quality. Algorithm run is treated as CRASHED, cost is set to 2147483647.0 for quality scenarios. (Change value through \"cost_for_crash\"-option.)\n"
     ]
    },
    {
     "name": "stdout",
     "output_type": "stream",
     "text": [
      "Fitting configuration: \n",
      "{'dim_reduction_choice': 'TSNE', 'early_exaggeration___TSNE': 12.003372078454781, 'n_clusters___KMeans': 2, 'perplexity___TSNE': 38.05900164476127, 'clustering_choice': 'KMeans', 'n_components___TSNE': 2}\n",
      "Score obtained by this configuration: 0.2305012345314026\n",
      "Fitting configuration: \n",
      "{'dim_reduction_choice': 'TruncatedSVD', 'n_clusters___MiniBatchKMeans': 4, 'batch_size___MiniBatchKMeans': 59, 'clustering_choice': 'MiniBatchKMeans', 'algorithm___TruncatedSVD': 'randomized', 'n_components___TruncatedSVD': 6}\n",
      "Score obtained by this configuration: 0.35762740209233784\n",
      "Fitting configuration: \n",
      "{'dim_reduction_choice': 'TSNE', 'n_clusters___MiniBatchKMeans': 47, 'early_exaggeration___TSNE': 6.826835855604907, 'batch_size___MiniBatchKMeans': 512, 'perplexity___TSNE': 52.57456896888597, 'clustering_choice': 'MiniBatchKMeans', 'n_components___TSNE': 2}\n",
      "Score obtained by this configuration: inf\n"
     ]
    },
    {
     "name": "stderr",
     "output_type": "stream",
     "text": [
      "WARNING:smac.tae.execute_func.ExecuteTAFuncDict:Target Algorithm returned NaN or inf as quality. Algorithm run is treated as CRASHED, cost is set to 2147483647.0 for quality scenarios. (Change value through \"cost_for_crash\"-option.)\n"
     ]
    },
    {
     "name": "stdout",
     "output_type": "stream",
     "text": [
      "Fitting configuration: \n",
      "{'dim_reduction_choice': 'TSNE', 'n_clusters___MiniBatchKMeans': 18, 'early_exaggeration___TSNE': 13.329293306310921, 'batch_size___MiniBatchKMeans': 403, 'perplexity___TSNE': 50.34467431503499, 'clustering_choice': 'MiniBatchKMeans', 'n_components___TSNE': 2}\n",
      "Score obtained by this configuration: 0.29806628326574963\n",
      "Fitting configuration: \n",
      "{'kernel___KernelPCA': 'rbf', 'dim_reduction_choice': 'KernelPCA', 'n_components___KernelPCA': 2, 'clustering_choice': 'KMeans', 'n_clusters___KMeans': 72}\n",
      "Score obtained by this configuration: inf\n"
     ]
    },
    {
     "name": "stderr",
     "output_type": "stream",
     "text": [
      "WARNING:smac.tae.execute_func.ExecuteTAFuncDict:Target Algorithm returned NaN or inf as quality. Algorithm run is treated as CRASHED, cost is set to 2147483647.0 for quality scenarios. (Change value through \"cost_for_crash\"-option.)\n"
     ]
    },
    {
     "name": "stdout",
     "output_type": "stream",
     "text": [
      "Fitting configuration: \n",
      "{'algorithm___FastICA': 'parallel', 'dim_reduction_choice': 'FastICA', 'fun___FastICA': 'logcosh', 'n_components___FastICA': 3, 'n_clusters___KMeans': 36, 'whiten___FastICA': True, 'clustering_choice': 'KMeans'}\n",
      "Score obtained by this configuration: inf\n"
     ]
    },
    {
     "name": "stderr",
     "output_type": "stream",
     "text": [
      "WARNING:smac.tae.execute_func.ExecuteTAFuncDict:Target Algorithm returned NaN or inf as quality. Algorithm run is treated as CRASHED, cost is set to 2147483647.0 for quality scenarios. (Change value through \"cost_for_crash\"-option.)\n"
     ]
    },
    {
     "name": "stdout",
     "output_type": "stream",
     "text": [
      "Fitting configuration: \n",
      "{'dim_reduction_choice': 'TSNE', 'n_clusters___MiniBatchKMeans': 7, 'early_exaggeration___TSNE': 11.674784077720986, 'batch_size___MiniBatchKMeans': 100, 'perplexity___TSNE': 45.98264047872127, 'clustering_choice': 'MiniBatchKMeans', 'n_components___TSNE': 2}\n",
      "Score obtained by this configuration: 0.2291233241558075\n",
      "Fitting configuration: \n",
      "{'dim_reduction_choice': 'TSNE', 'n_clusters___MiniBatchKMeans': 8, 'early_exaggeration___TSNE': 9.076243890920127, 'batch_size___MiniBatchKMeans': 12, 'perplexity___TSNE': 48.53307111166225, 'clustering_choice': 'MiniBatchKMeans', 'n_components___TSNE': 2}\n",
      "Score obtained by this configuration: 0.2614167034626007\n",
      "Fitting configuration: \n",
      "{'dim_reduction_choice': 'TruncatedSVD', 'clustering_choice': 'SpectralClustering', 'affinity___SpectralClustering': 'sigmoid', 'assign_labels___SpectralClustering': 'discretize', 'algorithm___TruncatedSVD': 'randomized', 'n_clusters___SpectralClustering': 12, 'eigen_solver___SpectralClustering': 'arpack', 'n_components___TruncatedSVD': 5}\n"
     ]
    },
    {
     "name": "stderr",
     "output_type": "stream",
     "text": [
      "Process pynisher function call:\n",
      "Traceback (most recent call last):\n",
      "  File \"/home/wywongbd/anaconda3/envs/spia2019/lib/python3.5/multiprocessing/process.py\", line 252, in _bootstrap\n",
      "    self.run()\n",
      "  File \"/home/wywongbd/anaconda3/envs/spia2019/lib/python3.5/multiprocessing/process.py\", line 93, in run\n",
      "    self._target(*self._args, **self._kwargs)\n",
      "  File \"/home/wywongbd/anaconda3/envs/spia2019/lib/python3.5/site-packages/pynisher/limit_function_call.py\", line 93, in subprocess_func\n",
      "    return_value = ((func(*args, **kwargs), 0))\n",
      "  File \"/home/wywongbd/coding_workspace/autocluster/autocluster/autocluster.py\", line 259, in evaluate_model\n",
      "    scaler, dim_reduction_model, clustering_model = fit_models(cfg, train_data)\n",
      "  File \"/home/wywongbd/coding_workspace/autocluster/autocluster/autocluster.py\", line 227, in fit_models\n",
      "    clustering_model.fit(compressed_data)\n",
      "  File \"/home/wywongbd/anaconda3/envs/spia2019/lib/python3.5/site-packages/sklearn/cluster/spectral.py\", line 493, in fit\n",
      "    assign_labels=self.assign_labels)\n",
      "  File \"/home/wywongbd/anaconda3/envs/spia2019/lib/python3.5/site-packages/sklearn/cluster/spectral.py\", line 264, in spectral_clustering\n",
      "    eigen_tol=eigen_tol, drop_first=False)\n",
      "  File \"/home/wywongbd/anaconda3/envs/spia2019/lib/python3.5/site-packages/sklearn/manifold/spectral_embedding_.py\", line 271, in spectral_embedding\n",
      "    tol=eigen_tol, v0=v0)\n",
      "  File \"/home/wywongbd/anaconda3/envs/spia2019/lib/python3.5/site-packages/scipy/sparse/linalg/eigen/arpack/arpack.py\", line 1622, in eigsh\n",
      "    symmetric=True, tol=tol)\n",
      "  File \"/home/wywongbd/anaconda3/envs/spia2019/lib/python3.5/site-packages/scipy/sparse/linalg/eigen/arpack/arpack.py\", line 1053, in get_OPinv_matvec\n",
      "    return LuInv(A).matvec\n",
      "  File \"/home/wywongbd/anaconda3/envs/spia2019/lib/python3.5/site-packages/scipy/sparse/linalg/eigen/arpack/arpack.py\", line 931, in __init__\n",
      "    self.M_lu = lu_factor(M)\n",
      "  File \"/home/wywongbd/anaconda3/envs/spia2019/lib/python3.5/site-packages/scipy/linalg/decomp_lu.py\", line 73, in lu_factor\n",
      "    a1 = asarray_chkfinite(a)\n",
      "  File \"/home/wywongbd/anaconda3/envs/spia2019/lib/python3.5/site-packages/numpy/lib/function_base.py\", line 498, in asarray_chkfinite\n",
      "    \"array must not contain infs or NaNs\")\n",
      "ValueError: array must not contain infs or NaNs\n"
     ]
    },
    {
     "name": "stdout",
     "output_type": "stream",
     "text": [
      "Fitting configuration: \n",
      "{'branching_factor___Birch': 459, 'dim_reduction_choice': 'KernelPCA', 'n_components___KernelPCA': 5, 'n_clusters___Birch': 25, 'kernel___KernelPCA': 'cosine', 'clustering_choice': 'Birch'}\n",
      "Score obtained by this configuration: 0.3105699993855387\n",
      "Fitting configuration: \n",
      "{'algorithm___FastICA': 'parallel', 'dim_reduction_choice': 'FastICA', 'fun___FastICA': 'cube', 'n_components___FastICA': 3, 'n_clusters___KMeans': 54, 'clustering_choice': 'KMeans'}\n",
      "Score obtained by this configuration: inf\n"
     ]
    },
    {
     "name": "stderr",
     "output_type": "stream",
     "text": [
      "WARNING:smac.tae.execute_func.ExecuteTAFuncDict:Target Algorithm returned NaN or inf as quality. Algorithm run is treated as CRASHED, cost is set to 2147483647.0 for quality scenarios. (Change value through \"cost_for_crash\"-option.)\n"
     ]
    },
    {
     "name": "stdout",
     "output_type": "stream",
     "text": [
      "Fitting configuration: \n",
      "{'dim_reduction_choice': 'TSNE', 'n_clusters___MiniBatchKMeans': 3, 'early_exaggeration___TSNE': 10.562390185045437, 'batch_size___MiniBatchKMeans': 82, 'perplexity___TSNE': 81.5685322711995, 'clustering_choice': 'MiniBatchKMeans', 'n_components___TSNE': 2}\n",
      "Score obtained by this configuration: 0.27131609121958417\n",
      "Fitting configuration: \n",
      "{'init_params___GaussianMixture': 'random', 'dim_reduction_choice': 'TruncatedSVD', 'n_components___GaussianMixture': 10, 'clustering_choice': 'GaussianMixture', 'algorithm___TruncatedSVD': 'randomized', 'warm_start___GaussianMixture': True, 'covariance_type___GaussianMixture': 'diag', 'n_components___TruncatedSVD': 3}\n",
      "Score obtained by this configuration: inf\n"
     ]
    },
    {
     "name": "stderr",
     "output_type": "stream",
     "text": [
      "WARNING:smac.tae.execute_func.ExecuteTAFuncDict:Target Algorithm returned NaN or inf as quality. Algorithm run is treated as CRASHED, cost is set to 2147483647.0 for quality scenarios. (Change value through \"cost_for_crash\"-option.)\n"
     ]
    },
    {
     "name": "stdout",
     "output_type": "stream",
     "text": [
      "Fitting configuration: \n",
      "{'dim_reduction_choice': 'TSNE', 'linkage___AgglomerativeClustering': 'average', 'affinity___AgglomerativeClustering': 'manhattan', 'early_exaggeration___TSNE': 11.741499808283582, 'perplexity___TSNE': 95.34161394468437, 'clustering_choice': 'AgglomerativeClustering', 'n_clusters___AgglomerativeClustering': 10, 'n_components___TSNE': 2}\n",
      "Score obtained by this configuration: inf\n"
     ]
    },
    {
     "name": "stderr",
     "output_type": "stream",
     "text": [
      "WARNING:smac.tae.execute_func.ExecuteTAFuncDict:Target Algorithm returned NaN or inf as quality. Algorithm run is treated as CRASHED, cost is set to 2147483647.0 for quality scenarios. (Change value through \"cost_for_crash\"-option.)\n"
     ]
    },
    {
     "name": "stdout",
     "output_type": "stream",
     "text": [
      "Fitting configuration: \n",
      "{'dim_reduction_choice': 'IncrementalPCA', 'batch_size___IncrementalPCA': 371, 'n_clusters___KMeans': 68, 'clustering_choice': 'KMeans', 'whiten___IncrementalPCA': True, 'n_components___IncrementalPCA': 3}\n",
      "Score obtained by this configuration: inf\n"
     ]
    },
    {
     "name": "stderr",
     "output_type": "stream",
     "text": [
      "WARNING:smac.tae.execute_func.ExecuteTAFuncDict:Target Algorithm returned NaN or inf as quality. Algorithm run is treated as CRASHED, cost is set to 2147483647.0 for quality scenarios. (Change value through \"cost_for_crash\"-option.)\n"
     ]
    },
    {
     "name": "stdout",
     "output_type": "stream",
     "text": [
      "Fitting configuration: \n",
      "{'algorithm___FastICA': 'deflation', 'dim_reduction_choice': 'FastICA', 'fun___FastICA': 'cube', 'n_components___FastICA': 2, 'batch_size___MiniBatchKMeans': 964, 'whiten___FastICA': True, 'clustering_choice': 'MiniBatchKMeans', 'n_clusters___MiniBatchKMeans': 42}\n",
      "Score obtained by this configuration: inf\n"
     ]
    },
    {
     "name": "stderr",
     "output_type": "stream",
     "text": [
      "WARNING:smac.tae.execute_func.ExecuteTAFuncDict:Target Algorithm returned NaN or inf as quality. Algorithm run is treated as CRASHED, cost is set to 2147483647.0 for quality scenarios. (Change value through \"cost_for_crash\"-option.)\n"
     ]
    },
    {
     "name": "stdout",
     "output_type": "stream",
     "text": [
      "Optimization is complete.\n",
      "Took 586.71 seconds.\n",
      "The optimal configuration is \n",
      "Configuration:\n",
      "  clustering_choice, Value: 'KMeans'\n",
      "  dim_reduction_choice, Value: 'TSNE'\n",
      "  early_exaggeration___TSNE, Value: 12.0\n",
      "  n_clusters___KMeans, Value: 5\n",
      "  n_components___TSNE, Value: 2\n",
      "  perplexity___TSNE, Value: 30.0\n",
      "\n"
     ]
    }
   ],
   "source": [
    "cluster = AutoCluster()\n",
    "fit_params = {\n",
    "    \"df\": df, \n",
    "    \"cluster_alg_ls\": [\n",
    "        'KMeans', 'GaussianMixture', 'Birch', \n",
    "        'MiniBatchKMeans', 'AgglomerativeClustering', 'SpectralClustering'\n",
    "    ], \n",
    "    \"dim_reduction_alg_ls\": [\n",
    "        'TSNE', 'PCA', 'IncrementalPCA', \n",
    "        'KernelPCA', 'FastICA', 'TruncatedSVD'\n",
    "    ],\n",
    "    \"optimizer\": 'smac',\n",
    "    \"n_evaluations\": 40,\n",
    "    \"run_obj\": 'quality',\n",
    "    \"seed\": 27,\n",
    "    \"cutoff_time\": 60,\n",
    "    \"preprocess_dict\": {\n",
    "        \"numeric_cols\": [],\n",
    "        \"categorical_cols\": [df.columns],\n",
    "        \"ordinal_cols\": [],\n",
    "        \"y_col\": []\n",
    "    },\n",
    "    \"evaluator\": get_evaluator(evaluator_ls = ['silhouetteScore'], \n",
    "                               weights = [], clustering_num = None, \n",
    "                               min_proportion = .01),\n",
    "    \"n_folds\": 3,\n",
    "    \"warmstart\": True,\n",
    "    \"warmstart_datasets_dir\": 'experiments/metaknowledge/benchmark_silhouette',\n",
    "    \"warmstart_metafeatures_table_path\": 'experiments/metaknowledge/benchmark_silhouette_metafeatures_table.csv',\n",
    "    \"warmstart_n_neighbors\": 10,\n",
    "    \"warmstart_top_n\": 3,\n",
    "    \"general_metafeatures\": MetafeatureMapper.getGeneralMetafeatures(),\n",
    "    \"numeric_metafeatures\": MetafeatureMapper.getNumericMetafeatures(),\n",
    "    \"categorical_metafeatures\": [],\n",
    "    \"verbose_level\": 1,\n",
    "}\n",
    "result_dict = cluster.fit(**fit_params)"
   ]
  },
  {
   "cell_type": "markdown",
   "metadata": {},
   "source": [
    "Important parameters to take note:\n",
    "- ``warmstart_datasets_dir``: Don't change this unless you have ran metalearning on your own datasets.\n",
    "- ``warmstart_metafeatures_table_path``: This is the path to a csv table with metafeatures of all datasets used for warmstarting. Don't change this unless you have ran metalearning on your own datasets.\n",
    "- ``warmstart_n_neighbors``: During warmstarting, the closest ``N`` datasets on the metefeatures space will be chosen to retrieve some initial configurations for Bayesian Optimization. ``warmstart_n_neighbors`` refers to ``N``.\n",
    "- ``warmstart_top_n``: During warmstarting, a list of ``K`` best configurations will be retrieved from each of the chosen 'similar' datasets. ``warmstart_top_n`` refers to ``K``.\n",
    "- ``general_metafeatures``: General metafeatures used for computing the distance or 'similarity' between two datasets.\n",
    "- ``numeric_metafeatures``: Numeric metafeatures used for computing the distance or 'similarity' between two datasets. Numeric here means the metafeatures are computed using only the numeric columns of a dataset."
   ]
  },
  {
   "cell_type": "code",
   "execution_count": 16,
   "metadata": {},
   "outputs": [
    {
     "data": {
      "text/plain": [
       "array([ 8.71000000e+02,  6.76964198e+00,  0.00000000e+00,  0.00000000e+00,\n",
       "        4.94618255e-01,  9.35117997e-01,  4.19630207e-03, -1.32139604e+00,\n",
       "       -6.94361220e-01,  1.63155299e+00,  4.94618255e-01,  2.42351176e+00,\n",
       "       -3.11590242e-02,  4.74065879e+01, -1.48398554e+00,  1.02483389e-01,\n",
       "       -6.90114415e-01,  2.75198822e-01,  4.42166884e+01, -1.30268721e-01,\n",
       "       -8.92595764e-01,  0.00000000e+00, -2.36529976e+01, -1.13229811e-02,\n",
       "       -3.00000000e+00,  2.00317863e-01,  8.66001149e+02, -1.64998297e+00,\n",
       "        2.60112525e+00,  4.01657825e-01,  2.94618592e+01,  4.06250000e-01,\n",
       "        2.87354014e-01])"
      ]
     },
     "execution_count": 16,
     "metadata": {},
     "output_type": "execute_result"
    }
   ],
   "source": [
    "result_dict['metafeatures'][0]"
   ]
  },
  {
   "cell_type": "code",
   "execution_count": 17,
   "metadata": {},
   "outputs": [
    {
     "data": {
      "image/png": "[encoded data removed]",
      "text/plain": [
       "<Figure size 720x720 with 1 Axes>"
      ]
     },
     "metadata": {
      "needs_background": "dark"
     },
     "output_type": "display_data"
    }
   ],
   "source": [
    "predictions = cluster.predict(df, save_plot=False)"
   ]
  },
  {
   "cell_type": "code",
   "execution_count": 18,
   "metadata": {},
   "outputs": [
    {
     "data": {
      "text/plain": [
       "Counter({0: 121, 1: 234, 2: 183, 3: 334, 4: 211})"
      ]
     },
     "execution_count": 18,
     "metadata": {},
     "output_type": "execute_result"
    }
   ],
   "source": [
    "Counter(predictions)"
   ]
  },
  {
   "cell_type": "code",
   "execution_count": 19,
   "metadata": {},
   "outputs": [
    {
     "data": {
      "text/plain": [
       "0.5798941901171364"
      ]
     },
     "execution_count": 19,
     "metadata": {},
     "output_type": "execute_result"
    }
   ],
   "source": [
    "v_measure_score(predictions, datasets.load_digits(n_class=6)['target'])"
   ]
  },
  {
   "cell_type": "markdown",
   "metadata": {},
   "source": [
    "The V measure score is reasonably good given that we are just doing clustering. Refer to [sklearn's page](https://scikit-learn.org/stable/modules/generated/sklearn.metrics.v_measure_score.html) for further explanation on v measure's interpretation."
   ]
  },
  {
   "cell_type": "code",
   "execution_count": 20,
   "metadata": {},
   "outputs": [
    {
     "data": {
      "image/png": "[encoded data removed]",
      "text/plain": [
       "<Figure size 720x720 with 1 Axes>"
      ]
     },
     "metadata": {
      "needs_background": "dark"
     },
     "output_type": "display_data"
    }
   ],
   "source": [
    "cluster.plot_convergence()"
   ]
  },
  {
   "cell_type": "code",
   "execution_count": 21,
   "metadata": {},
   "outputs": [
    {
     "data": {
      "text/plain": [
       "[({'algorithm___TruncatedSVD': 'randomized',\n",
       "   'branching_factor___Birch': 291,\n",
       "   'clustering_choice': 'Birch',\n",
       "   'dim_reduction_choice': 'TruncatedSVD',\n",
       "   'n_clusters___Birch': 45,\n",
       "   'n_components___TruncatedSVD': 9},\n",
       "  2147483648),\n",
       " ({'algorithm___TruncatedSVD': 'randomized',\n",
       "   'branching_factor___Birch': 291,\n",
       "   'clustering_choice': 'Birch',\n",
       "   'dim_reduction_choice': 'TruncatedSVD',\n",
       "   'n_clusters___Birch': 45,\n",
       "   'n_components___TruncatedSVD': 9},\n",
       "  2147483647.0),\n",
       " ({'affinity___AgglomerativeClustering': 'euclidean',\n",
       "   'clustering_choice': 'AgglomerativeClustering',\n",
       "   'dim_reduction_choice': 'KernelPCA',\n",
       "   'kernel___KernelPCA': 'rbf',\n",
       "   'linkage___AgglomerativeClustering': 'complete',\n",
       "   'n_clusters___AgglomerativeClustering': 7,\n",
       "   'n_components___KernelPCA': 6},\n",
       "  0.27981443645008397),\n",
       " ({'branching_factor___Birch': 91,\n",
       "   'clustering_choice': 'Birch',\n",
       "   'dim_reduction_choice': 'TSNE',\n",
       "   'early_exaggeration___TSNE': 12.0,\n",
       "   'n_clusters___Birch': 6,\n",
       "   'n_components___TSNE': 2,\n",
       "   'perplexity___TSNE': 84.03630134401256},\n",
       "  0.25396819909413654),\n",
       " ({'clustering_choice': 'KMeans',\n",
       "   'dim_reduction_choice': 'TSNE',\n",
       "   'early_exaggeration___TSNE': 12.0,\n",
       "   'n_clusters___KMeans': 5,\n",
       "   'n_components___TSNE': 2,\n",
       "   'perplexity___TSNE': 30.0},\n",
       "  0.22241556644439697)]"
      ]
     },
     "execution_count": 21,
     "metadata": {},
     "output_type": "execute_result"
    }
   ],
   "source": [
    "cluster.get_trajectory()"
   ]
  },
  {
   "cell_type": "code",
   "execution_count": null,
   "metadata": {},
   "outputs": [],
   "source": []
  },
  {
   "cell_type": "code",
   "execution_count": null,
   "metadata": {},
   "outputs": [],
   "source": []
  }
 ],
 "metadata": {
  "kernelspec": {
   "display_name": "base",
   "language": "python",
   "name": "python3"
  },
  "language_info": {
   "codemirror_mode": {
    "name": "ipython",
    "version": 3
   },
   "file_extension": ".py",
   "mimetype": "text/x-python",
   "name": "python",
   "nbconvert_exporter": "python",
   "pygments_lexer": "ipython3",
   "version": "3.10.9"
  }
 },
 "nbformat": 4,
 "nbformat_minor": 2
}
