{
 "cells": [
  {
   "cell_type": "code",
   "execution_count": 1,
   "metadata": {},
   "outputs": [],
   "source": [
    "import os\n",
    "\n",
    "# change working directory, run this cell once\n",
    "os.chdir(\"../../\")"
   ]
  },
  {
   "cell_type": "markdown",
   "metadata": {},
   "source": [
    "In this notebook, we will demonstrate an example on how to use the ``AutoCluster`` class for clustering."
   ]
  },
  {
   "cell_type": "markdown",
   "metadata": {},
   "source": [
    "### Import packages"
   ]
  },
  {
   "cell_type": "code",
   "execution_count": 2,
   "metadata": {},
   "outputs": [],
   "source": [
    "# we will be using sample datasets in sklearn\n",
    "from sklearn import datasets\n",
    "from collections import Counter\n",
    "import pandas as pd\n",
    "\n",
    "# autocluster functionalities\n",
    "import autocluster\n",
    "from autocluster import AutoCluster, get_evaluator\n",
    "\n",
    "%load_ext autoreload\n",
    "%autoreload 2"
   ]
  },
  {
   "cell_type": "markdown",
   "metadata": {},
   "source": [
    "### Load sklearn dummy dataset"
   ]
  },
  {
   "cell_type": "code",
   "execution_count": 3,
   "metadata": {},
   "outputs": [
    {
     "data": {
      "text/html": [
       "<div>\n",
       "<style scoped>\n",
       "    .dataframe tbody tr th:only-of-type {\n",
       "        vertical-align: middle;\n",
       "    }\n",
       "\n",
       "    .dataframe tbody tr th {\n",
       "        vertical-align: top;\n",
       "    }\n",
       "\n",
       "    .dataframe thead th {\n",
       "        text-align: right;\n",
       "    }\n",
       "</style>\n",
       "<table border=\"1\" class=\"dataframe\">\n",
       "  <thead>\n",
       "    <tr style=\"text-align: right;\">\n",
       "      <th></th>\n",
       "      <th>0</th>\n",
       "      <th>1</th>\n",
       "    </tr>\n",
       "  </thead>\n",
       "  <tbody>\n",
       "    <tr>\n",
       "      <th>0</th>\n",
       "      <td>7.742343</td>\n",
       "      <td>-6.603815</td>\n",
       "    </tr>\n",
       "    <tr>\n",
       "      <th>1</th>\n",
       "      <td>8.726121</td>\n",
       "      <td>6.433689</td>\n",
       "    </tr>\n",
       "    <tr>\n",
       "      <th>2</th>\n",
       "      <td>-1.427522</td>\n",
       "      <td>5.393546</td>\n",
       "    </tr>\n",
       "    <tr>\n",
       "      <th>3</th>\n",
       "      <td>8.801468</td>\n",
       "      <td>-5.185687</td>\n",
       "    </tr>\n",
       "    <tr>\n",
       "      <th>4</th>\n",
       "      <td>-1.404321</td>\n",
       "      <td>9.526536</td>\n",
       "    </tr>\n",
       "  </tbody>\n",
       "</table>\n",
       "</div>"
      ],
      "text/plain": [
       "          0         1\n",
       "0  7.742343 -6.603815\n",
       "1  8.726121  6.433689\n",
       "2 -1.427522  5.393546\n",
       "3  8.801468 -5.185687\n",
       "4 -1.404321  9.526536"
      ]
     },
     "execution_count": 3,
     "metadata": {},
     "output_type": "execute_result"
    }
   ],
   "source": [
    "X, y = datasets.make_blobs(n_samples=1000, \n",
    "                           n_features=2, \n",
    "                           centers=6, \n",
    "                           cluster_std=0.5, \n",
    "                           shuffle=True, random_state=27)\n",
    "dummy_df = pd.DataFrame(X)\n",
    "dummy_df.head(5)"
   ]
  },
  {
   "cell_type": "markdown",
   "metadata": {},
   "source": [
    "- Note that we are converting the dataset from ``numpy`` format to ``pandas DataFrame`` format. \n",
    "- This is because the ``AutoCluster.fit()`` function only accepts ``DataFrame`` format as input.\n",
    "- There are 2 columns in this dataset, named ``0`` and ``1``. "
   ]
  },
  {
   "cell_type": "code",
   "execution_count": 4,
   "metadata": {},
   "outputs": [
    {
     "name": "stdout",
     "output_type": "stream",
     "text": [
      "Shape of this dataframe is (1000, 2)\n"
     ]
    }
   ],
   "source": [
    "print(\"Shape of this dataframe is {}\".format(dummy_df.shape))"
   ]
  },
  {
   "cell_type": "markdown",
   "metadata": {},
   "source": [
    "### Finding an optimal clustering model using Bayesian Optimization (SMAC)"
   ]
  },
  {
   "cell_type": "code",
   "execution_count": 5,
   "metadata": {},
   "outputs": [
    {
     "name": "stdout",
     "output_type": "stream",
     "text": [
      "660/1000 datapoints remaining after outlier removal\n",
      "Truncated n_evaluations: 40\n",
      "Fitting configuration: \n",
      "{'dim_reduction_choice': 'NullModel', 'n_clusters___KMeans': 5, 'clustering_choice': 'KMeans', 'random_state___NullModel': 1}\n",
      "Score obtained by this configuration: 0.13574354072697425\n",
      "Fitting configuration: \n",
      "{'dim_reduction_choice': 'NullModel', 'n_clusters___MiniBatchKMeans': 13, 'batch_size___MiniBatchKMeans': 958, 'clustering_choice': 'MiniBatchKMeans', 'random_state___NullModel': 2}\n",
      "Score obtained by this configuration: 0.3130952857220725\n",
      "Fitting configuration: \n",
      "{'init_params___GaussianMixture': 'kmeans', 'dim_reduction_choice': 'NullModel', 'covariance_type___GaussianMixture': 'spherical', 'n_components___GaussianMixture': 60, 'clustering_choice': 'GaussianMixture'}\n",
      "Score obtained by this configuration: inf\n"
     ]
    },
    {
     "name": "stderr",
     "output_type": "stream",
     "text": [
      "Target Algorithm returned NaN or inf as quality. Algorithm run is treated as CRASHED, cost is set to 2147483647.0 for quality scenarios. (Change value through \"cost_for_crash\"-option.)\n"
     ]
    },
    {
     "name": "stdout",
     "output_type": "stream",
     "text": [
      "Fitting configuration: \n",
      "{'dim_reduction_choice': 'NullModel', 'n_clusters___MiniBatchKMeans': 2, 'batch_size___MiniBatchKMeans': 969, 'clustering_choice': 'MiniBatchKMeans', 'random_state___NullModel': 1}\n",
      "Score obtained by this configuration: 0.22031549539601344\n",
      "Fitting configuration: \n",
      "{'dim_reduction_choice': 'NullModel', 'n_clusters___KMeans': 7, 'clustering_choice': 'KMeans', 'random_state___NullModel': 2}\n",
      "Score obtained by this configuration: 0.19040337173344157\n",
      "Fitting configuration: \n",
      "{'dim_reduction_choice': 'NullModel', 'n_clusters___MiniBatchKMeans': 19, 'batch_size___MiniBatchKMeans': 250, 'clustering_choice': 'MiniBatchKMeans', 'random_state___NullModel': 1}\n",
      "Score obtained by this configuration: 0.3246427534032912\n",
      "Fitting configuration: \n",
      "{'dim_reduction_choice': 'NullModel', 'n_clusters___KMeans': 25, 'clustering_choice': 'KMeans', 'random_state___NullModel': 1}\n",
      "Score obtained by this configuration: inf\n"
     ]
    },
    {
     "name": "stderr",
     "output_type": "stream",
     "text": [
      "WARNING:smac.tae.execute_func.ExecuteTAFuncDict:Target Algorithm returned NaN or inf as quality. Algorithm run is treated as CRASHED, cost is set to 2147483647.0 for quality scenarios. (Change value through \"cost_for_crash\"-option.)\n"
     ]
    },
    {
     "name": "stdout",
     "output_type": "stream",
     "text": [
      "Fitting configuration: \n",
      "{'dim_reduction_choice': 'NullModel', 'n_clusters___MiniBatchKMeans': 46, 'batch_size___MiniBatchKMeans': 744, 'clustering_choice': 'MiniBatchKMeans', 'random_state___NullModel': 2}\n",
      "Score obtained by this configuration: inf\n"
     ]
    },
    {
     "name": "stderr",
     "output_type": "stream",
     "text": [
      "WARNING:smac.tae.execute_func.ExecuteTAFuncDict:Target Algorithm returned NaN or inf as quality. Algorithm run is treated as CRASHED, cost is set to 2147483647.0 for quality scenarios. (Change value through \"cost_for_crash\"-option.)\n"
     ]
    },
    {
     "name": "stdout",
     "output_type": "stream",
     "text": [
      "Fitting configuration: \n",
      "{'dim_reduction_choice': 'NullModel', 'n_clusters___KMeans': 24, 'clustering_choice': 'KMeans', 'random_state___NullModel': 1}\n",
      "Score obtained by this configuration: inf\n"
     ]
    },
    {
     "name": "stderr",
     "output_type": "stream",
     "text": [
      "WARNING:smac.tae.execute_func.ExecuteTAFuncDict:Target Algorithm returned NaN or inf as quality. Algorithm run is treated as CRASHED, cost is set to 2147483647.0 for quality scenarios. (Change value through \"cost_for_crash\"-option.)\n"
     ]
    },
    {
     "name": "stdout",
     "output_type": "stream",
     "text": [
      "Fitting configuration: \n",
      "{'dim_reduction_choice': 'NullModel', 'n_clusters___KMeans': 73, 'clustering_choice': 'KMeans'}\n",
      "Score obtained by this configuration: inf\n"
     ]
    },
    {
     "name": "stderr",
     "output_type": "stream",
     "text": [
      "WARNING:smac.tae.execute_func.ExecuteTAFuncDict:Target Algorithm returned NaN or inf as quality. Algorithm run is treated as CRASHED, cost is set to 2147483647.0 for quality scenarios. (Change value through \"cost_for_crash\"-option.)\n"
     ]
    },
    {
     "name": "stdout",
     "output_type": "stream",
     "text": [
      "Fitting configuration: \n",
      "{'dim_reduction_choice': 'NullModel', 'n_clusters___KMeans': 46, 'clustering_choice': 'KMeans', 'random_state___NullModel': 2}\n",
      "Score obtained by this configuration: inf\n"
     ]
    },
    {
     "name": "stderr",
     "output_type": "stream",
     "text": [
      "WARNING:smac.tae.execute_func.ExecuteTAFuncDict:Target Algorithm returned NaN or inf as quality. Algorithm run is treated as CRASHED, cost is set to 2147483647.0 for quality scenarios. (Change value through \"cost_for_crash\"-option.)\n"
     ]
    },
    {
     "name": "stdout",
     "output_type": "stream",
     "text": [
      "Fitting configuration: \n",
      "{'dim_reduction_choice': 'NullModel', 'n_clusters___MiniBatchKMeans': 76, 'batch_size___MiniBatchKMeans': 16, 'clustering_choice': 'MiniBatchKMeans', 'random_state___NullModel': 1}\n"
     ]
    },
    {
     "name": "stderr",
     "output_type": "stream",
     "text": [
      "/home/wywongbd/anaconda3/envs/spia2019/lib/python3.5/site-packages/sklearn/cluster/k_means_.py:1561: RuntimeWarning: init_size=48 should be larger than k=76. Setting it to 3*k\n",
      "  init_size=init_size)\n",
      "/home/wywongbd/anaconda3/envs/spia2019/lib/python3.5/site-packages/sklearn/cluster/k_means_.py:1561: RuntimeWarning: init_size=48 should be larger than k=76. Setting it to 3*k\n",
      "  init_size=init_size)\n",
      "/home/wywongbd/anaconda3/envs/spia2019/lib/python3.5/site-packages/sklearn/cluster/k_means_.py:1561: RuntimeWarning: init_size=48 should be larger than k=76. Setting it to 3*k\n",
      "  init_size=init_size)\n",
      "/home/wywongbd/anaconda3/envs/spia2019/lib/python3.5/site-packages/sklearn/cluster/k_means_.py:1561: RuntimeWarning: init_size=48 should be larger than k=76. Setting it to 3*k\n",
      "  init_size=init_size)\n",
      "/home/wywongbd/anaconda3/envs/spia2019/lib/python3.5/site-packages/sklearn/cluster/k_means_.py:1561: RuntimeWarning: init_size=48 should be larger than k=76. Setting it to 3*k\n",
      "  init_size=init_size)\n",
      "/home/wywongbd/anaconda3/envs/spia2019/lib/python3.5/site-packages/sklearn/cluster/k_means_.py:1561: RuntimeWarning: init_size=48 should be larger than k=76. Setting it to 3*k\n",
      "  init_size=init_size)\n"
     ]
    },
    {
     "name": "stdout",
     "output_type": "stream",
     "text": [
      "Score obtained by this configuration: inf\n"
     ]
    },
    {
     "name": "stderr",
     "output_type": "stream",
     "text": [
      "WARNING:smac.tae.execute_func.ExecuteTAFuncDict:Target Algorithm returned NaN or inf as quality. Algorithm run is treated as CRASHED, cost is set to 2147483647.0 for quality scenarios. (Change value through \"cost_for_crash\"-option.)\n"
     ]
    },
    {
     "name": "stdout",
     "output_type": "stream",
     "text": [
      "Fitting configuration: \n",
      "{'dim_reduction_choice': 'NullModel', 'n_clusters___MiniBatchKMeans': 41, 'batch_size___MiniBatchKMeans': 118, 'clustering_choice': 'MiniBatchKMeans', 'random_state___NullModel': 1}\n",
      "Score obtained by this configuration: inf\n"
     ]
    },
    {
     "name": "stderr",
     "output_type": "stream",
     "text": [
      "WARNING:smac.tae.execute_func.ExecuteTAFuncDict:Target Algorithm returned NaN or inf as quality. Algorithm run is treated as CRASHED, cost is set to 2147483647.0 for quality scenarios. (Change value through \"cost_for_crash\"-option.)\n"
     ]
    },
    {
     "name": "stdout",
     "output_type": "stream",
     "text": [
      "Fitting configuration: \n",
      "{'init_params___GaussianMixture': 'kmeans', 'clustering_choice': 'GaussianMixture', 'covariance_type___GaussianMixture': 'tied', 'dim_reduction_choice': 'NullModel', 'n_components___GaussianMixture': 24, 'random_state___NullModel': 2}\n",
      "Score obtained by this configuration: inf\n"
     ]
    },
    {
     "name": "stderr",
     "output_type": "stream",
     "text": [
      "WARNING:smac.tae.execute_func.ExecuteTAFuncDict:Target Algorithm returned NaN or inf as quality. Algorithm run is treated as CRASHED, cost is set to 2147483647.0 for quality scenarios. (Change value through \"cost_for_crash\"-option.)\n"
     ]
    },
    {
     "name": "stdout",
     "output_type": "stream",
     "text": [
      "Fitting configuration: \n",
      "{'init_params___GaussianMixture': 'kmeans', 'dim_reduction_choice': 'NullModel', 'covariance_type___GaussianMixture': 'tied', 'n_components___GaussianMixture': 30, 'clustering_choice': 'GaussianMixture'}\n",
      "Score obtained by this configuration: inf\n"
     ]
    },
    {
     "name": "stderr",
     "output_type": "stream",
     "text": [
      "WARNING:smac.tae.execute_func.ExecuteTAFuncDict:Target Algorithm returned NaN or inf as quality. Algorithm run is treated as CRASHED, cost is set to 2147483647.0 for quality scenarios. (Change value through \"cost_for_crash\"-option.)\n"
     ]
    },
    {
     "name": "stdout",
     "output_type": "stream",
     "text": [
      "Fitting configuration: \n",
      "{'warm_start___GaussianMixture': True, 'covariance_type___GaussianMixture': 'spherical', 'n_components___GaussianMixture': 67, 'init_params___GaussianMixture': 'random', 'dim_reduction_choice': 'NullModel', 'clustering_choice': 'GaussianMixture', 'random_state___NullModel': 2}\n"
     ]
    },
    {
     "name": "stderr",
     "output_type": "stream",
     "text": [
      "/home/wywongbd/anaconda3/envs/spia2019/lib/python3.5/site-packages/sklearn/mixture/base.py:265: ConvergenceWarning: Initialization 1 did not converge. Try different init parameters, or increase max_iter, tol or check for degenerate data.\n",
      "  % (init + 1), ConvergenceWarning)\n"
     ]
    },
    {
     "name": "stdout",
     "output_type": "stream",
     "text": [
      "Score obtained by this configuration: inf\n"
     ]
    },
    {
     "name": "stderr",
     "output_type": "stream",
     "text": [
      "WARNING:smac.tae.execute_func.ExecuteTAFuncDict:Target Algorithm returned NaN or inf as quality. Algorithm run is treated as CRASHED, cost is set to 2147483647.0 for quality scenarios. (Change value through \"cost_for_crash\"-option.)\n"
     ]
    },
    {
     "name": "stdout",
     "output_type": "stream",
     "text": [
      "Fitting configuration: \n",
      "{'dim_reduction_choice': 'NullModel', 'n_clusters___MiniBatchKMeans': 3, 'batch_size___MiniBatchKMeans': 669, 'clustering_choice': 'MiniBatchKMeans', 'random_state___NullModel': 2}\n",
      "Score obtained by this configuration: 0.1641883513892987\n",
      "Fitting configuration: \n",
      "{'dim_reduction_choice': 'NullModel', 'n_clusters___KMeans': 16, 'clustering_choice': 'KMeans', 'random_state___NullModel': 2}\n",
      "Score obtained by this configuration: 0.3244092267516297\n",
      "Fitting configuration: \n",
      "{'dim_reduction_choice': 'NullModel', 'n_clusters___KMeans': 53, 'clustering_choice': 'KMeans'}\n",
      "Score obtained by this configuration: inf\n"
     ]
    },
    {
     "name": "stderr",
     "output_type": "stream",
     "text": [
      "WARNING:smac.tae.execute_func.ExecuteTAFuncDict:Target Algorithm returned NaN or inf as quality. Algorithm run is treated as CRASHED, cost is set to 2147483647.0 for quality scenarios. (Change value through \"cost_for_crash\"-option.)\n"
     ]
    },
    {
     "name": "stdout",
     "output_type": "stream",
     "text": [
      "Fitting configuration: \n",
      "{'init_params___GaussianMixture': 'random', 'clustering_choice': 'GaussianMixture', 'covariance_type___GaussianMixture': 'spherical', 'dim_reduction_choice': 'NullModel', 'n_components___GaussianMixture': 53, 'random_state___NullModel': 1}\n"
     ]
    },
    {
     "name": "stderr",
     "output_type": "stream",
     "text": [
      "/home/wywongbd/anaconda3/envs/spia2019/lib/python3.5/site-packages/sklearn/mixture/base.py:265: ConvergenceWarning: Initialization 1 did not converge. Try different init parameters, or increase max_iter, tol or check for degenerate data.\n",
      "  % (init + 1), ConvergenceWarning)\n"
     ]
    },
    {
     "name": "stdout",
     "output_type": "stream",
     "text": [
      "Score obtained by this configuration: inf\n"
     ]
    },
    {
     "name": "stderr",
     "output_type": "stream",
     "text": [
      "WARNING:smac.tae.execute_func.ExecuteTAFuncDict:Target Algorithm returned NaN or inf as quality. Algorithm run is treated as CRASHED, cost is set to 2147483647.0 for quality scenarios. (Change value through \"cost_for_crash\"-option.)\n"
     ]
    },
    {
     "name": "stdout",
     "output_type": "stream",
     "text": [
      "Fitting configuration: \n",
      "{'init_params___GaussianMixture': 'kmeans', 'clustering_choice': 'GaussianMixture', 'covariance_type___GaussianMixture': 'spherical', 'dim_reduction_choice': 'NullModel', 'n_components___GaussianMixture': 4, 'random_state___NullModel': 1}\n",
      "Score obtained by this configuration: 0.167065208293769\n",
      "Fitting configuration: \n",
      "{'dim_reduction_choice': 'NullModel', 'n_clusters___MiniBatchKMeans': 31, 'batch_size___MiniBatchKMeans': 219, 'clustering_choice': 'MiniBatchKMeans', 'random_state___NullModel': 2}\n",
      "Score obtained by this configuration: inf\n"
     ]
    },
    {
     "name": "stderr",
     "output_type": "stream",
     "text": [
      "WARNING:smac.tae.execute_func.ExecuteTAFuncDict:Target Algorithm returned NaN or inf as quality. Algorithm run is treated as CRASHED, cost is set to 2147483647.0 for quality scenarios. (Change value through \"cost_for_crash\"-option.)\n"
     ]
    },
    {
     "name": "stdout",
     "output_type": "stream",
     "text": [
      "Fitting configuration: \n",
      "{'dim_reduction_choice': 'NullModel', 'n_clusters___MiniBatchKMeans': 55, 'batch_size___MiniBatchKMeans': 168, 'clustering_choice': 'MiniBatchKMeans', 'random_state___NullModel': 1}\n",
      "Score obtained by this configuration: inf\n"
     ]
    },
    {
     "name": "stderr",
     "output_type": "stream",
     "text": [
      "WARNING:smac.tae.execute_func.ExecuteTAFuncDict:Target Algorithm returned NaN or inf as quality. Algorithm run is treated as CRASHED, cost is set to 2147483647.0 for quality scenarios. (Change value through \"cost_for_crash\"-option.)\n"
     ]
    },
    {
     "name": "stdout",
     "output_type": "stream",
     "text": [
      "Fitting configuration: \n",
      "{'dim_reduction_choice': 'NullModel', 'batch_size___MiniBatchKMeans': 711, 'clustering_choice': 'MiniBatchKMeans', 'n_clusters___MiniBatchKMeans': 6}\n",
      "Score obtained by this configuration: 0.12146433323727658\n",
      "Fitting configuration: \n",
      "{'dim_reduction_choice': 'NullModel', 'n_clusters___MiniBatchKMeans': 3, 'batch_size___MiniBatchKMeans': 229, 'clustering_choice': 'MiniBatchKMeans', 'random_state___NullModel': 2}\n",
      "Score obtained by this configuration: 0.1641883513892987\n",
      "Fitting configuration: \n",
      "{'dim_reduction_choice': 'NullModel', 'n_clusters___KMeans': 79, 'clustering_choice': 'KMeans', 'random_state___NullModel': 2}\n",
      "Score obtained by this configuration: inf\n"
     ]
    },
    {
     "name": "stderr",
     "output_type": "stream",
     "text": [
      "WARNING:smac.tae.execute_func.ExecuteTAFuncDict:Target Algorithm returned NaN or inf as quality. Algorithm run is treated as CRASHED, cost is set to 2147483647.0 for quality scenarios. (Change value through \"cost_for_crash\"-option.)\n"
     ]
    },
    {
     "name": "stdout",
     "output_type": "stream",
     "text": [
      "Fitting configuration: \n",
      "{'dim_reduction_choice': 'NullModel', 'batch_size___MiniBatchKMeans': 921, 'clustering_choice': 'MiniBatchKMeans', 'n_clusters___MiniBatchKMeans': 10}\n",
      "Score obtained by this configuration: 0.3034981031638786\n",
      "Fitting configuration: \n",
      "{'dim_reduction_choice': 'NullModel', 'n_clusters___KMeans': 52, 'clustering_choice': 'KMeans', 'random_state___NullModel': 2}\n",
      "Score obtained by this configuration: inf\n"
     ]
    },
    {
     "name": "stderr",
     "output_type": "stream",
     "text": [
      "WARNING:smac.tae.execute_func.ExecuteTAFuncDict:Target Algorithm returned NaN or inf as quality. Algorithm run is treated as CRASHED, cost is set to 2147483647.0 for quality scenarios. (Change value through \"cost_for_crash\"-option.)\n"
     ]
    },
    {
     "name": "stdout",
     "output_type": "stream",
     "text": [
      "Fitting configuration: \n",
      "{'dim_reduction_choice': 'NullModel', 'n_clusters___MiniBatchKMeans': 2, 'batch_size___MiniBatchKMeans': 229, 'clustering_choice': 'MiniBatchKMeans', 'random_state___NullModel': 2}\n",
      "Score obtained by this configuration: 0.24808170702080704\n",
      "Fitting configuration: \n",
      "{'dim_reduction_choice': 'NullModel', 'batch_size___MiniBatchKMeans': 417, 'clustering_choice': 'MiniBatchKMeans', 'n_clusters___MiniBatchKMeans': 57}\n",
      "Score obtained by this configuration: inf\n"
     ]
    },
    {
     "name": "stderr",
     "output_type": "stream",
     "text": [
      "WARNING:smac.tae.execute_func.ExecuteTAFuncDict:Target Algorithm returned NaN or inf as quality. Algorithm run is treated as CRASHED, cost is set to 2147483647.0 for quality scenarios. (Change value through \"cost_for_crash\"-option.)\n"
     ]
    },
    {
     "name": "stdout",
     "output_type": "stream",
     "text": [
      "Fitting configuration: \n",
      "{'dim_reduction_choice': 'NullModel', 'n_clusters___MiniBatchKMeans': 8, 'batch_size___MiniBatchKMeans': 230, 'clustering_choice': 'MiniBatchKMeans', 'random_state___NullModel': 1}\n",
      "Score obtained by this configuration: 0.2321712592608993\n",
      "Fitting configuration: \n",
      "{'dim_reduction_choice': 'NullModel', 'batch_size___MiniBatchKMeans': 227, 'clustering_choice': 'MiniBatchKMeans', 'n_clusters___MiniBatchKMeans': 7}\n",
      "Score obtained by this configuration: 0.19116604708163162\n",
      "Fitting configuration: \n",
      "{'dim_reduction_choice': 'NullModel', 'n_clusters___MiniBatchKMeans': 6, 'batch_size___MiniBatchKMeans': 221, 'clustering_choice': 'MiniBatchKMeans', 'random_state___NullModel': 1}\n",
      "Score obtained by this configuration: 0.12146433323727658\n",
      "Fitting configuration: \n",
      "{'dim_reduction_choice': 'NullModel', 'batch_size___MiniBatchKMeans': 217, 'clustering_choice': 'MiniBatchKMeans', 'n_clusters___MiniBatchKMeans': 1}\n",
      "Score obtained by this configuration: inf\n"
     ]
    },
    {
     "name": "stderr",
     "output_type": "stream",
     "text": [
      "WARNING:smac.tae.execute_func.ExecuteTAFuncDict:Target Algorithm returned NaN or inf as quality. Algorithm run is treated as CRASHED, cost is set to 2147483647.0 for quality scenarios. (Change value through \"cost_for_crash\"-option.)\n"
     ]
    },
    {
     "name": "stdout",
     "output_type": "stream",
     "text": [
      "Fitting configuration: \n",
      "{'init_params___GaussianMixture': 'kmeans', 'clustering_choice': 'GaussianMixture', 'covariance_type___GaussianMixture': 'tied', 'dim_reduction_choice': 'NullModel', 'n_components___GaussianMixture': 32, 'random_state___NullModel': 2}\n",
      "Score obtained by this configuration: inf\n"
     ]
    },
    {
     "name": "stderr",
     "output_type": "stream",
     "text": [
      "WARNING:smac.tae.execute_func.ExecuteTAFuncDict:Target Algorithm returned NaN or inf as quality. Algorithm run is treated as CRASHED, cost is set to 2147483647.0 for quality scenarios. (Change value through \"cost_for_crash\"-option.)\n"
     ]
    },
    {
     "name": "stdout",
     "output_type": "stream",
     "text": [
      "Fitting configuration: \n",
      "{'dim_reduction_choice': 'NullModel', 'n_clusters___KMeans': 29, 'clustering_choice': 'KMeans'}\n",
      "Score obtained by this configuration: inf\n"
     ]
    },
    {
     "name": "stderr",
     "output_type": "stream",
     "text": [
      "WARNING:smac.tae.execute_func.ExecuteTAFuncDict:Target Algorithm returned NaN or inf as quality. Algorithm run is treated as CRASHED, cost is set to 2147483647.0 for quality scenarios. (Change value through \"cost_for_crash\"-option.)\n"
     ]
    },
    {
     "name": "stdout",
     "output_type": "stream",
     "text": [
      "Fitting configuration: \n",
      "{'dim_reduction_choice': 'NullModel', 'n_clusters___MiniBatchKMeans': 8, 'batch_size___MiniBatchKMeans': 220, 'clustering_choice': 'MiniBatchKMeans', 'random_state___NullModel': 1}\n",
      "Score obtained by this configuration: 0.24203420003354426\n",
      "Fitting configuration: \n",
      "{'dim_reduction_choice': 'NullModel', 'n_clusters___KMeans': 73, 'clustering_choice': 'KMeans', 'random_state___NullModel': 2}\n",
      "Score obtained by this configuration: inf\n"
     ]
    },
    {
     "name": "stderr",
     "output_type": "stream",
     "text": [
      "WARNING:smac.tae.execute_func.ExecuteTAFuncDict:Target Algorithm returned NaN or inf as quality. Algorithm run is treated as CRASHED, cost is set to 2147483647.0 for quality scenarios. (Change value through \"cost_for_crash\"-option.)\n"
     ]
    },
    {
     "name": "stdout",
     "output_type": "stream",
     "text": [
      "Fitting configuration: \n",
      "{'dim_reduction_choice': 'NullModel', 'n_clusters___KMeans': 61, 'clustering_choice': 'KMeans'}\n",
      "Score obtained by this configuration: inf\n"
     ]
    },
    {
     "name": "stderr",
     "output_type": "stream",
     "text": [
      "WARNING:smac.tae.execute_func.ExecuteTAFuncDict:Target Algorithm returned NaN or inf as quality. Algorithm run is treated as CRASHED, cost is set to 2147483647.0 for quality scenarios. (Change value through \"cost_for_crash\"-option.)\n"
     ]
    },
    {
     "name": "stdout",
     "output_type": "stream",
     "text": [
      "Fitting configuration: \n",
      "{'dim_reduction_choice': 'NullModel', 'n_clusters___MiniBatchKMeans': 9, 'batch_size___MiniBatchKMeans': 222, 'clustering_choice': 'MiniBatchKMeans', 'random_state___NullModel': 1}\n",
      "Score obtained by this configuration: 0.26493544730431157\n",
      "Optimization is complete.\n",
      "Took 23.68 seconds.\n",
      "The optimal configuration is \n",
      "Configuration:\n",
      "  batch_size___MiniBatchKMeans, Value: 711\n",
      "  clustering_choice, Value: 'MiniBatchKMeans'\n",
      "  dim_reduction_choice, Value: 'NullModel'\n",
      "  n_clusters___MiniBatchKMeans, Value: 6\n",
      "  random_state___NullModel, Value: 0\n",
      "\n"
     ]
    }
   ],
   "source": [
    "cluster = AutoCluster(logger=None)\n",
    "fit_params = {\n",
    "    \"df\": dummy_df, \n",
    "    \"cluster_alg_ls\": [\n",
    "        'KMeans', 'GaussianMixture', 'MiniBatchKMeans'\n",
    "    ], \n",
    "    \"dim_reduction_alg_ls\": [\n",
    "        'NullModel'\n",
    "    ],\n",
    "    \"optimizer\": 'smac',\n",
    "    \"n_evaluations\": 40,\n",
    "    \"run_obj\": 'quality',\n",
    "    \"seed\": 27,\n",
    "    \"cutoff_time\": 10,\n",
    "    \"preprocess_dict\": {\n",
    "        \"numeric_cols\": list(range(2)),\n",
    "        \"categorical_cols\": [],\n",
    "        \"ordinal_cols\": [],\n",
    "        \"y_col\": []\n",
    "    },\n",
    "    \"evaluator\": get_evaluator(evaluator_ls = ['silhouetteScore', \n",
    "                                               'daviesBouldinScore', \n",
    "                                               'calinskiHarabaszScore'], \n",
    "                               weights = [1, 1, 1], \n",
    "                               clustering_num = None, \n",
    "                               min_proportion = .01, \n",
    "                               min_relative_proportion='default'),\n",
    "    \"n_folds\": 3,\n",
    "    \"warmstart\": False,\n",
    "    \"verbose_level\": 1,\n",
    "}\n",
    "result_dict = cluster.fit(**fit_params)"
   ]
  },
  {
   "cell_type": "markdown",
   "metadata": {},
   "source": [
    "There is a lot going on here, let's talk about some of the parameters used in the example above:\n",
    "- ``cluster_alg_ls``: This is the list of possible clustering algorithms to include within the search space.\n",
    "- ``dim_reduction_alg_ls``: This is the list of possible dimension reduction algorithms to include within the search space. Dimension reduction is performed **before** the clustering step. ``NullModel`` means no dimension reduction is done.\n",
    "- ``optimizer``: There are two options for this, ``\"smac\"`` or ``\"random\"``. ``\"smac\"`` does Bayesian Optimization using the SMAC library, while ``\"random\"`` just performs random search optimization.\n",
    "- ``n_evaluations``: number of iterations to run, generally the larger the better.\n",
    "- ``cutoff_time``: If evaluating a certain configuration takes longer than this value (in seconds), it will be terminated.\n",
    "- ``preprocess_dict``: This is important, ``AutoCluster.fit()`` uses this dictionary to preprocess the dataset. For instance, categorical columns will be one hot encoded, while ordinal columns will encoded as integers. \n",
    "- ``evaluator``: This is important, it tells ``AutoCluster.fit()`` how to evaluate a clustering result. \n",
    "    - ``evaluator_ls``: list of metric to include in a linear combination. Choices available are ``[\"silhouetteScore\", \"daviesBouldinScore\", \"calinskiHarabaszScore\"]``.\n",
    "    - ``weights``: how much weights to use for each metric in the linear combination.\n",
    "    - ``clustering_num``: A tuple is expected. If clustering result has n_clusters outside this specified range, ``float(inf)`` will be returned from evaluator.\n",
    "    - ``min_proportion``: The proportion of points in each cluster must be at least this value.\n",
    "    - ``min_relative_proportion``: The ratio of number points in the smallest cluster to the number of points in the largest cluster must be at least this value. By using ``'default'``, ``min_relative_proportion`` will be set to `` 5 * min_proportion``.\n",
    "- ``warmstart``: Whether or not to use warmstart, examples will be shown below on how to use this.\n",
    "- ``verbose_level``: Must be either 0, 1 or 2. The higher the number, the more logs/print statements are used. For normal usage we recommend using 1.\n",
    "\n",
    "If you have a logger, you can pass it into the ``AutoCluster()`` constructor."
   ]
  },
  {
   "cell_type": "code",
   "execution_count": 6,
   "metadata": {},
   "outputs": [
    {
     "data": {
      "image/png": "[encoded data removed]",
      "text/plain": [
       "<Figure size 720x720 with 1 Axes>"
      ]
     },
     "metadata": {
      "needs_background": "dark"
     },
     "output_type": "display_data"
    }
   ],
   "source": [
    "predictions = cluster.predict(dummy_df, save_plot=False)"
   ]
  },
  {
   "cell_type": "code",
   "execution_count": 7,
   "metadata": {},
   "outputs": [
    {
     "name": "stdout",
     "output_type": "stream",
     "text": [
      "Configuration:\n",
      "  batch_size___MiniBatchKMeans, Value: 711\n",
      "  clustering_choice, Value: 'MiniBatchKMeans'\n",
      "  dim_reduction_choice, Value: 'NullModel'\n",
      "  n_clusters___MiniBatchKMeans, Value: 6\n",
      "  random_state___NullModel, Value: 0\n",
      "\n",
      "Counter({0: 168, 1: 167, 2: 167, 4: 167, 5: 166, 3: 165})\n"
     ]
    }
   ],
   "source": [
    "print(result_dict[\"optimal_cfg\"])\n",
    "print(Counter(predictions))"
   ]
  },
  {
   "cell_type": "code",
   "execution_count": null,
   "metadata": {},
   "outputs": [],
   "source": []
  },
  {
   "cell_type": "code",
   "execution_count": null,
   "metadata": {},
   "outputs": [],
   "source": []
  }
 ],
 "metadata": {
  "kernelspec": {
   "display_name": "base",
   "language": "python",
   "name": "python3"
  },
  "language_info": {
   "codemirror_mode": {
    "name": "ipython",
    "version": 3
   },
   "file_extension": ".py",
   "mimetype": "text/x-python",
   "name": "python",
   "nbconvert_exporter": "python",
   "pygments_lexer": "ipython3",
   "version": "3.10.9"
  }
 },
 "nbformat": 4,
 "nbformat_minor": 2
}
