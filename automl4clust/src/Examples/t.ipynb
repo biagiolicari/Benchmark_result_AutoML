{
 "cells": [
  {
   "cell_type": "code",
   "execution_count": null,
   "metadata": {},
   "outputs": [],
   "source": [
    "from sklearn.datasets import make_blobs\n",
    "import ConfigSpace as CS\n",
    "\n",
    "from ..Algorithm import ClusteringAlgorithms\n",
    "from ..Metrics.MetricHandler import MetricCollection\n",
    "from ..Optimizer.Optimizer import SMACOptimizer, RandomOptimizer, BOHBOptimizer, HyperBandOptimizer\n",
    "import ConfigSpace.hyperparameters as CSH\n",
    "\n",
    "\n"
   ]
  },
  {
   "cell_type": "code",
   "execution_count": null,
   "metadata": {},
   "outputs": [],
   "source": [
    "# Create a testing data set for all examples\n",
    "X, y = make_blobs(n_samples=10000, n_features=10)\n",
    "\n",
    "# optimizers that can be used in our implementation\n",
    "optimizers = [RandomOptimizer, SMACOptimizer, HyperBandOptimizer, BOHBOptimizer]\n",
    "\n",
    "##########################################################\n",
    "### Example 1: Running optimizer with default settings ###\n",
    "# We use Hyperband in our examples\n",
    "optimizer = SMACOptimizer\n",
    "\n",
    "# Simple example running optimizer with default settings\n",
    "automl_four_clust_instance = optimizer(dataset=X)\n",
    "result = automl_four_clust_instance.optimize()\n",
    "best_configuration = automl_four_clust_instance.get_best_configuration()\n",
    "\n",
    "# It is also possible to get the history of configurations\n",
    "history = automl_four_clust_instance.get_config_history()\n",
    "\n",
    "print(best_configuration)"
   ]
  }
 ],
 "metadata": {
  "language_info": {
   "name": "python"
  }
 },
 "nbformat": 4,
 "nbformat_minor": 2
}
