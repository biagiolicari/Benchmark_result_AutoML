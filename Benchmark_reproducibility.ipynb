{
 "cells": [
  {
   "cell_type": "code",
   "execution_count": 1,
   "metadata": {},
   "outputs": [
    {
     "name": "stdout",
     "output_type": "stream",
     "text": [
      "Defaulting to user installation because normal site-packages is not writeable\n",
      "Requirement already satisfied: neptune in /home/licari/.local/lib/python3.10/site-packages (1.8.6)\n",
      "Requirement already satisfied: click>=7.0 in /home/licari/.local/lib/python3.10/site-packages (from neptune) (8.1.7)\n",
      "Requirement already satisfied: psutil in /home/licari/.local/lib/python3.10/site-packages (from neptune) (5.9.8)\n",
      "Requirement already satisfied: oauthlib>=2.1.0 in /usr/lib/python3/dist-packages (from neptune) (3.2.0)\n",
      "Requirement already satisfied: GitPython>=2.0.8 in /home/licari/.local/lib/python3.10/site-packages (from neptune) (3.1.41)\n",
      "Requirement already satisfied: requests-oauthlib>=1.0.0 in /home/licari/.local/lib/python3.10/site-packages (from neptune) (1.3.1)\n",
      "Requirement already satisfied: future>=0.17.1 in /home/licari/.local/lib/python3.10/site-packages (from neptune) (0.18.3)\n",
      "Requirement already satisfied: bravado<12.0.0,>=11.0.0 in /home/licari/.local/lib/python3.10/site-packages (from neptune) (11.0.3)\n",
      "Requirement already satisfied: websocket-client!=1.0.0,>=0.35.0 in /home/licari/.local/lib/python3.10/site-packages (from neptune) (1.7.0)\n",
      "Requirement already satisfied: Pillow>=1.1.6 in /home/licari/.local/lib/python3.10/site-packages (from neptune) (10.2.0)\n",
      "Requirement already satisfied: PyJWT in /usr/lib/python3/dist-packages (from neptune) (2.3.0)\n",
      "Requirement already satisfied: swagger-spec-validator>=2.7.4 in /home/licari/.local/lib/python3.10/site-packages (from neptune) (3.0.3)\n",
      "Requirement already satisfied: urllib3 in /usr/lib/python3/dist-packages (from neptune) (1.26.5)\n",
      "Requirement already satisfied: pandas in /home/licari/.local/lib/python3.10/site-packages (from neptune) (2.2.0)\n",
      "Requirement already satisfied: requests>=2.20.0 in /usr/lib/python3/dist-packages (from neptune) (2.25.1)\n",
      "Requirement already satisfied: six>=1.12.0 in /usr/lib/python3/dist-packages (from neptune) (1.16.0)\n",
      "Requirement already satisfied: packaging in /home/licari/.local/lib/python3.10/site-packages (from neptune) (23.2)\n",
      "Requirement already satisfied: boto3>=1.28.0 in /home/licari/.local/lib/python3.10/site-packages (from neptune) (1.34.30)\n",
      "Requirement already satisfied: s3transfer<0.11.0,>=0.10.0 in /home/licari/.local/lib/python3.10/site-packages (from boto3>=1.28.0->neptune) (0.10.0)\n",
      "Requirement already satisfied: jmespath<2.0.0,>=0.7.1 in /home/licari/.local/lib/python3.10/site-packages (from boto3>=1.28.0->neptune) (1.0.1)\n",
      "Requirement already satisfied: botocore<1.35.0,>=1.34.30 in /home/licari/.local/lib/python3.10/site-packages (from boto3>=1.28.0->neptune) (1.34.30)\n",
      "Requirement already satisfied: typing-extensions in /home/licari/.local/lib/python3.10/site-packages (from bravado<12.0.0,>=11.0.0->neptune) (4.9.0)\n",
      "Requirement already satisfied: msgpack in /home/licari/.local/lib/python3.10/site-packages (from bravado<12.0.0,>=11.0.0->neptune) (1.0.7)\n",
      "Requirement already satisfied: bravado-core>=5.16.1 in /home/licari/.local/lib/python3.10/site-packages (from bravado<12.0.0,>=11.0.0->neptune) (6.1.1)\n",
      "Requirement already satisfied: monotonic in /home/licari/.local/lib/python3.10/site-packages (from bravado<12.0.0,>=11.0.0->neptune) (1.6)\n",
      "Requirement already satisfied: pyyaml in /usr/lib/python3/dist-packages (from bravado<12.0.0,>=11.0.0->neptune) (5.4.1)\n",
      "Requirement already satisfied: python-dateutil in /home/licari/.local/lib/python3.10/site-packages (from bravado<12.0.0,>=11.0.0->neptune) (2.8.2)\n",
      "Requirement already satisfied: simplejson in /home/licari/.local/lib/python3.10/site-packages (from bravado<12.0.0,>=11.0.0->neptune) (3.19.2)\n",
      "Requirement already satisfied: gitdb<5,>=4.0.1 in /home/licari/.local/lib/python3.10/site-packages (from GitPython>=2.0.8->neptune) (4.0.11)\n",
      "Requirement already satisfied: jsonschema in /usr/lib/python3/dist-packages (from swagger-spec-validator>=2.7.4->neptune) (3.2.0)\n",
      "Requirement already satisfied: tzdata>=2022.7 in /home/licari/.local/lib/python3.10/site-packages (from pandas->neptune) (2023.4)\n",
      "Requirement already satisfied: pytz>=2020.1 in /usr/lib/python3/dist-packages (from pandas->neptune) (2022.1)\n",
      "Requirement already satisfied: numpy<2,>=1.22.4 in /home/licari/.local/lib/python3.10/site-packages (from pandas->neptune) (1.26.3)\n",
      "Requirement already satisfied: jsonref in /home/licari/.local/lib/python3.10/site-packages (from bravado-core>=5.16.1->bravado<12.0.0,>=11.0.0->neptune) (1.1.0)\n",
      "Requirement already satisfied: smmap<6,>=3.0.1 in /home/licari/.local/lib/python3.10/site-packages (from gitdb<5,>=4.0.1->GitPython>=2.0.8->neptune) (5.0.1)\n",
      "\u001b[33mWARNING: jsonschema 3.2.0 does not provide the extra 'format-nongpl'\u001b[0m\u001b[33m\n",
      "\u001b[0mDefaulting to user installation because normal site-packages is not writeable\n",
      "Requirement already satisfied: dash in /home/licari/.local/lib/python3.10/site-packages (2.14.2)\n",
      "Requirement already satisfied: ansi2html in /home/licari/.local/lib/python3.10/site-packages (from dash) (1.9.1)\n",
      "Requirement already satisfied: dash-core-components==2.0.0 in /home/licari/.local/lib/python3.10/site-packages (from dash) (2.0.0)\n",
      "Requirement already satisfied: Flask<3.1,>=1.0.4 in /home/licari/.local/lib/python3.10/site-packages (from dash) (3.0.1)\n",
      "Requirement already satisfied: dash-table==5.0.0 in /home/licari/.local/lib/python3.10/site-packages (from dash) (5.0.0)\n",
      "Requirement already satisfied: importlib-metadata in /usr/lib/python3/dist-packages (from dash) (4.6.4)\n",
      "Requirement already satisfied: retrying in /home/licari/.local/lib/python3.10/site-packages (from dash) (1.3.4)\n",
      "Requirement already satisfied: plotly>=5.0.0 in /home/licari/.local/lib/python3.10/site-packages (from dash) (5.18.0)\n",
      "Requirement already satisfied: Werkzeug<3.1 in /home/licari/.local/lib/python3.10/site-packages (from dash) (3.0.1)\n",
      "Requirement already satisfied: typing-extensions>=4.1.1 in /home/licari/.local/lib/python3.10/site-packages (from dash) (4.9.0)\n",
      "Requirement already satisfied: setuptools in /usr/lib/python3/dist-packages (from dash) (59.6.0)\n",
      "Requirement already satisfied: dash-html-components==2.0.0 in /home/licari/.local/lib/python3.10/site-packages (from dash) (2.0.0)\n",
      "Requirement already satisfied: requests in /usr/lib/python3/dist-packages (from dash) (2.25.1)\n",
      "Requirement already satisfied: nest-asyncio in /home/licari/.local/lib/python3.10/site-packages (from dash) (1.6.0)\n",
      "Requirement already satisfied: click>=8.1.3 in /home/licari/.local/lib/python3.10/site-packages (from Flask<3.1,>=1.0.4->dash) (8.1.7)\n",
      "Requirement already satisfied: itsdangerous>=2.1.2 in /home/licari/.local/lib/python3.10/site-packages (from Flask<3.1,>=1.0.4->dash) (2.1.2)\n",
      "Requirement already satisfied: blinker>=1.6.2 in /home/licari/.local/lib/python3.10/site-packages (from Flask<3.1,>=1.0.4->dash) (1.7.0)\n",
      "Requirement already satisfied: Jinja2>=3.1.2 in /home/licari/.local/lib/python3.10/site-packages (from Flask<3.1,>=1.0.4->dash) (3.1.3)\n",
      "Requirement already satisfied: tenacity>=6.2.0 in /home/licari/.local/lib/python3.10/site-packages (from plotly>=5.0.0->dash) (8.2.3)\n",
      "Requirement already satisfied: packaging in /home/licari/.local/lib/python3.10/site-packages (from plotly>=5.0.0->dash) (23.2)\n",
      "Requirement already satisfied: MarkupSafe>=2.1.1 in /home/licari/.local/lib/python3.10/site-packages (from Werkzeug<3.1->dash) (2.1.4)\n",
      "Requirement already satisfied: six>=1.7.0 in /usr/lib/python3/dist-packages (from retrying->dash) (1.16.0)\n",
      "Defaulting to user installation because normal site-packages is not writeable\n",
      "Requirement already satisfied: seaborn in /home/licari/.local/lib/python3.10/site-packages (0.13.2)\n",
      "Requirement already satisfied: matplotlib!=3.6.1,>=3.4 in /home/licari/.local/lib/python3.10/site-packages (from seaborn) (3.8.2)\n",
      "Requirement already satisfied: numpy!=1.24.0,>=1.20 in /home/licari/.local/lib/python3.10/site-packages (from seaborn) (1.26.3)\n",
      "Requirement already satisfied: pandas>=1.2 in /home/licari/.local/lib/python3.10/site-packages (from seaborn) (2.2.0)\n",
      "Requirement already satisfied: fonttools>=4.22.0 in /home/licari/.local/lib/python3.10/site-packages (from matplotlib!=3.6.1,>=3.4->seaborn) (4.47.2)\n",
      "Requirement already satisfied: contourpy>=1.0.1 in /home/licari/.local/lib/python3.10/site-packages (from matplotlib!=3.6.1,>=3.4->seaborn) (1.2.0)\n",
      "Requirement already satisfied: packaging>=20.0 in /home/licari/.local/lib/python3.10/site-packages (from matplotlib!=3.6.1,>=3.4->seaborn) (23.2)\n",
      "Requirement already satisfied: cycler>=0.10 in /home/licari/.local/lib/python3.10/site-packages (from matplotlib!=3.6.1,>=3.4->seaborn) (0.12.1)\n",
      "Requirement already satisfied: kiwisolver>=1.3.1 in /home/licari/.local/lib/python3.10/site-packages (from matplotlib!=3.6.1,>=3.4->seaborn) (1.4.5)\n",
      "Requirement already satisfied: pillow>=8 in /home/licari/.local/lib/python3.10/site-packages (from matplotlib!=3.6.1,>=3.4->seaborn) (10.2.0)\n",
      "Requirement already satisfied: pyparsing>=2.3.1 in /usr/lib/python3/dist-packages (from matplotlib!=3.6.1,>=3.4->seaborn) (2.4.7)\n",
      "Requirement already satisfied: python-dateutil>=2.7 in /home/licari/.local/lib/python3.10/site-packages (from matplotlib!=3.6.1,>=3.4->seaborn) (2.8.2)\n",
      "Requirement already satisfied: tzdata>=2022.7 in /home/licari/.local/lib/python3.10/site-packages (from pandas>=1.2->seaborn) (2023.4)\n",
      "Requirement already satisfied: pytz>=2020.1 in /usr/lib/python3/dist-packages (from pandas>=1.2->seaborn) (2022.1)\n",
      "Requirement already satisfied: six>=1.5 in /usr/lib/python3/dist-packages (from python-dateutil>=2.7->matplotlib!=3.6.1,>=3.4->seaborn) (1.16.0)\n",
      "Defaulting to user installation because normal site-packages is not writeable\n",
      "Requirement already satisfied: pandas in /home/licari/.local/lib/python3.10/site-packages (2.2.0)\n",
      "Requirement already satisfied: python-dateutil>=2.8.2 in /home/licari/.local/lib/python3.10/site-packages (from pandas) (2.8.2)\n",
      "Requirement already satisfied: pytz>=2020.1 in /usr/lib/python3/dist-packages (from pandas) (2022.1)\n",
      "Requirement already satisfied: tzdata>=2022.7 in /home/licari/.local/lib/python3.10/site-packages (from pandas) (2023.4)\n",
      "Requirement already satisfied: numpy<2,>=1.22.4 in /home/licari/.local/lib/python3.10/site-packages (from pandas) (1.26.3)\n",
      "Requirement already satisfied: six>=1.5 in /usr/lib/python3/dist-packages (from python-dateutil>=2.8.2->pandas) (1.16.0)\n",
      "Defaulting to user installation because normal site-packages is not writeable\n",
      "Requirement already satisfied: numpy in /home/licari/.local/lib/python3.10/site-packages (1.26.3)\n",
      "Defaulting to user installation because normal site-packages is not writeable\n",
      "Requirement already satisfied: plotly in /home/licari/.local/lib/python3.10/site-packages (5.18.0)\n",
      "Requirement already satisfied: packaging in /home/licari/.local/lib/python3.10/site-packages (from plotly) (23.2)\n",
      "Requirement already satisfied: tenacity>=6.2.0 in /home/licari/.local/lib/python3.10/site-packages (from plotly) (8.2.3)\n",
      "Defaulting to user installation because normal site-packages is not writeable\n",
      "Requirement already satisfied: statsmodels in /home/licari/.local/lib/python3.10/site-packages (0.14.1)\n",
      "Requirement already satisfied: patsy>=0.5.4 in /home/licari/.local/lib/python3.10/site-packages (from statsmodels) (0.5.6)\n",
      "Requirement already satisfied: pandas!=2.1.0,>=1.0 in /home/licari/.local/lib/python3.10/site-packages (from statsmodels) (2.2.0)\n",
      "Requirement already satisfied: scipy!=1.9.2,>=1.4 in /home/licari/.local/lib/python3.10/site-packages (from statsmodels) (1.12.0)\n",
      "Requirement already satisfied: packaging>=21.3 in /home/licari/.local/lib/python3.10/site-packages (from statsmodels) (23.2)\n",
      "Requirement already satisfied: numpy<2,>=1.18 in /home/licari/.local/lib/python3.10/site-packages (from statsmodels) (1.26.3)\n",
      "Requirement already satisfied: tzdata>=2022.7 in /home/licari/.local/lib/python3.10/site-packages (from pandas!=2.1.0,>=1.0->statsmodels) (2023.4)\n",
      "Requirement already satisfied: pytz>=2020.1 in /usr/lib/python3/dist-packages (from pandas!=2.1.0,>=1.0->statsmodels) (2022.1)\n",
      "Requirement already satisfied: python-dateutil>=2.8.2 in /home/licari/.local/lib/python3.10/site-packages (from pandas!=2.1.0,>=1.0->statsmodels) (2.8.2)\n",
      "Requirement already satisfied: six in /usr/lib/python3/dist-packages (from patsy>=0.5.4->statsmodels) (1.16.0)\n",
      "Defaulting to user installation because normal site-packages is not writeable\n",
      "Requirement already satisfied: kaleido in /home/licari/.local/lib/python3.10/site-packages (0.2.1)\n",
      "Defaulting to user installation because normal site-packages is not writeable\n",
      "Requirement already satisfied: autorank in /home/licari/.local/lib/python3.10/site-packages (1.1.3)\n",
      "Requirement already satisfied: pandas>=0.25.0 in /home/licari/.local/lib/python3.10/site-packages (from autorank) (2.2.0)\n",
      "Requirement already satisfied: baycomp>=1.0.2 in /home/licari/.local/lib/python3.10/site-packages (from autorank) (1.0.3)\n",
      "Requirement already satisfied: matplotlib>=3.1.3 in /home/licari/.local/lib/python3.10/site-packages (from autorank) (3.8.2)\n",
      "Requirement already satisfied: scipy>=1.5.0 in /home/licari/.local/lib/python3.10/site-packages (from autorank) (1.12.0)\n",
      "Requirement already satisfied: statsmodels>=0.10.0 in /home/licari/.local/lib/python3.10/site-packages (from autorank) (0.14.1)\n",
      "Requirement already satisfied: numpy in /home/licari/.local/lib/python3.10/site-packages (from autorank) (1.26.3)\n",
      "Requirement already satisfied: pyparsing>=2.3.1 in /usr/lib/python3/dist-packages (from matplotlib>=3.1.3->autorank) (2.4.7)\n",
      "Requirement already satisfied: pillow>=8 in /home/licari/.local/lib/python3.10/site-packages (from matplotlib>=3.1.3->autorank) (10.2.0)\n",
      "Requirement already satisfied: cycler>=0.10 in /home/licari/.local/lib/python3.10/site-packages (from matplotlib>=3.1.3->autorank) (0.12.1)\n",
      "Requirement already satisfied: contourpy>=1.0.1 in /home/licari/.local/lib/python3.10/site-packages (from matplotlib>=3.1.3->autorank) (1.2.0)\n",
      "Requirement already satisfied: packaging>=20.0 in /home/licari/.local/lib/python3.10/site-packages (from matplotlib>=3.1.3->autorank) (23.2)\n",
      "Requirement already satisfied: python-dateutil>=2.7 in /home/licari/.local/lib/python3.10/site-packages (from matplotlib>=3.1.3->autorank) (2.8.2)\n",
      "Requirement already satisfied: fonttools>=4.22.0 in /home/licari/.local/lib/python3.10/site-packages (from matplotlib>=3.1.3->autorank) (4.47.2)\n",
      "Requirement already satisfied: kiwisolver>=1.3.1 in /home/licari/.local/lib/python3.10/site-packages (from matplotlib>=3.1.3->autorank) (1.4.5)\n",
      "Requirement already satisfied: pytz>=2020.1 in /usr/lib/python3/dist-packages (from pandas>=0.25.0->autorank) (2022.1)\n",
      "Requirement already satisfied: tzdata>=2022.7 in /home/licari/.local/lib/python3.10/site-packages (from pandas>=0.25.0->autorank) (2023.4)\n",
      "Requirement already satisfied: patsy>=0.5.4 in /home/licari/.local/lib/python3.10/site-packages (from statsmodels>=0.10.0->autorank) (0.5.6)\n",
      "Requirement already satisfied: six in /usr/lib/python3/dist-packages (from patsy>=0.5.4->statsmodels>=0.10.0->autorank) (1.16.0)\n",
      "Defaulting to user installation because normal site-packages is not writeable\n",
      "Requirement already satisfied: nbformat in /home/licari/.local/lib/python3.10/site-packages (5.9.2)\n",
      "Requirement already satisfied: jsonschema>=2.6 in /usr/lib/python3/dist-packages (from nbformat) (3.2.0)\n",
      "Requirement already satisfied: traitlets>=5.1 in /home/licari/.local/lib/python3.10/site-packages (from nbformat) (5.14.1)\n",
      "Requirement already satisfied: fastjsonschema in /home/licari/.local/lib/python3.10/site-packages (from nbformat) (2.19.1)\n",
      "Requirement already satisfied: jupyter-core in /home/licari/.local/lib/python3.10/site-packages (from nbformat) (5.7.1)\n",
      "Requirement already satisfied: platformdirs>=2.5 in /home/licari/.local/lib/python3.10/site-packages (from jupyter-core->nbformat) (4.1.0)\n"
     ]
    }
   ],
   "source": [
    "import sys\n",
    "!{sys.executable} -m pip install neptune\n",
    "!{sys.executable} -m pip install dash\n",
    "!{sys.executable} -m pip install seaborn\n",
    "!{sys.executable} -m pip install pandas\n",
    "!{sys.executable} -m pip install numpy\n",
    "!{sys.executable} -m pip install plotly\n",
    "!{sys.executable} -m pip install statsmodels\n",
    "!{sys.executable} -m pip install kaleido\n",
    "!{sys.executable} -m pip install autorank\n",
    "!{sys.executable} -m pip install nbformat\n"
   ]
  },
  {
   "cell_type": "code",
   "execution_count": 2,
   "metadata": {},
   "outputs": [
    {
     "name": "stderr",
     "output_type": "stream",
     "text": [
      "/tmp/ipykernel_2495491/1832702141.py:1: DeprecationWarning: \n",
      "Pyarrow will become a required dependency of pandas in the next major release of pandas (pandas 3.0),\n",
      "(to allow more performant data types, such as the Arrow string type, and better interoperability with other libraries)\n",
      "but was not found to be installed on your system.\n",
      "If this would cause problems for you,\n",
      "please provide us feedback at https://github.com/pandas-dev/pandas/issues/54466\n",
      "        \n",
      "  import pandas as pd\n"
     ]
    }
   ],
   "source": [
    "import pandas as pd\n",
    "import  numpy as np\n",
    "import neptune\n",
    "import plotly.express as px\n",
    "import plotly.io as pio\n",
    "import plotly.graph_objects as go\n",
    "from plotly.subplots import make_subplots\n",
    "from IPython.display import display, Markdown\n",
    "import kaleido\n",
    "default_colors = px.colors.qualitative.G10\n"
   ]
  },
  {
   "cell_type": "code",
   "execution_count": 3,
   "metadata": {},
   "outputs": [],
   "source": [
    "import seaborn as sns\n",
    "import matplotlib.pyplot as plt\n",
    "sns.set_theme(style=\"whitegrid\")\n",
    "sns.set_palette(palette=default_colors)\n",
    "\n",
    "# Define a function to apply the default theme\n",
    "def apply_default_theme(fig):\n",
    "    fig.update_layout(\n",
    "        template='plotly_white',\n",
    "\n",
    "    )\n",
    "    fig.update_xaxes(\n",
    "        mirror=True,\n",
    "        ticks='outside',\n",
    "        showline=True,\n",
    "        linecolor='black',\n",
    "        gridcolor='lightgrey'\n",
    "    )\n",
    "    fig.update_yaxes(\n",
    "        mirror=True,\n",
    "        ticks='outside',\n",
    "        showline=True,\n",
    "        linecolor='black',\n",
    "        gridcolor='lightgrey'\n",
    "    )"
   ]
  },
  {
   "cell_type": "code",
   "execution_count": 4,
   "metadata": {},
   "outputs": [],
   "source": [
    "#specific color mapping\n",
    "color_mapping = {\n",
    "    'ML2DAC': default_colors[1],\n",
    "    'Autocluster': default_colors[0],\n",
    "    'AutoML4Clust': default_colors[2],\n",
    "    'cSmartML': default_colors[3]\n",
    "}"
   ]
  },
  {
   "cell_type": "markdown",
   "metadata": {},
   "source": [
    "# Read data experiments"
   ]
  },
  {
   "cell_type": "markdown",
   "metadata": {},
   "source": [
    "Read already processed experiments data, to get this results the mean per dataset per each framework across all round of experiments was calculated"
   ]
  },
  {
   "cell_type": "code",
   "execution_count": 5,
   "metadata": {},
   "outputs": [],
   "source": [
    "# get data of each framework\n",
    "autocluster_framework = pd.read_csv(\"experiments_data/autocluster_experiments.csv\", index_col=0)\n",
    "csmartml_framework = pd.read_csv(\"experiments_data/csmartml_experiments.csv\", index_col=0)\n",
    "ml2dac_framework = pd.read_csv(\"experiments_data/ml2dac_experiments.csv\", index_col=0)\n",
    "automl4clust_framework = pd.read_csv(\"experiments_data/automl4clust_experiments.csv\", index_col=0)\n",
    "\n",
    "# Read dataset containing information about datasets used during experiments\n",
    "dataset = pd.read_csv('dataset.csv')\n",
    "\n",
    "# Include some datasets information on each experiments frwamework dataset\n",
    "automl4clust_framework = pd.merge(automl4clust_framework,dataset[['dataset', 'dataset_dim', 'dataset_instances']], on='dataset')\n",
    "ml2dac_framework = pd.merge(ml2dac_framework,dataset[['dataset', 'dataset_dim', 'dataset_instances']], on='dataset')\n",
    "csmartml_framework = pd.merge(csmartml_framework,dataset[['dataset', 'dataset_dim', 'dataset_instances']], on='dataset')\n",
    "autocluster_framework = pd.merge(autocluster_framework,dataset[['dataset', 'dataset_dim', 'dataset_instances']], on='dataset')\n",
    "\n",
    "automl4clust_framework = automl4clust_framework.groupby(by=[\"dataset\", \"framework\"], as_index=False).mean()\n",
    "ml2dac_framework = ml2dac_framework.groupby(by=[\"dataset\", \"framework\"], as_index=False).mean()\n",
    "csmartml_framework = csmartml_framework.groupby(by=[\"dataset\", \"framework\"], as_index=False).mean()\n",
    "autocluster_framework = autocluster_framework.groupby(by=[\"dataset\", \"framework\"], as_index=False).mean()"
   ]
  },
  {
   "cell_type": "markdown",
   "metadata": {},
   "source": [
    "# Definition of some utilities functions"
   ]
  },
  {
   "cell_type": "code",
   "execution_count": 6,
   "metadata": {},
   "outputs": [],
   "source": [
    "import matplotlib.pyplot as plt\n",
    "import seaborn as sns\n",
    "\n",
    "def plot_average_values(data, x_column, y_column, title, x_label, y_label, figsize=(10, 6), hue_column=None, title_legend='', rotate=0, x_fontsize=12, color_mapping=None, label_fontsize = 16, save=True, save_name=\"\"):\n",
    "    \"\"\"\n",
    "    Plot the average values using Seaborn, optionally with hue.\n",
    "\n",
    "    Parameters:\n",
    "        data (DataFrame): The DataFrame containing the data.\n",
    "        x_column (str): The column name for the x-axis.\n",
    "        y_column (str): The column name for the y-axis.\n",
    "        title (str): The title for the plot.\n",
    "        x_label (str): The label for the x-axis.\n",
    "        y_label (str): The label for the y-axis.\n",
    "        figsize (tuple): A tuple specifying the figure size.\n",
    "        hue_column (str, optional): The column name for hue (e.g., optimization method).\n",
    "        color_mapping (dict, optional): A dictionary mapping hues to colors.\n",
    "    \"\"\"\n",
    "    plt.figure(figsize=figsize)\n",
    "\n",
    "    if color_mapping:\n",
    "        # Create a palette based on the color mapping\n",
    "        sns.barplot(data=data, x=x_column, y=y_column, hue=hue_column, palette=color_mapping)\n",
    "        plt.legend(title=title_legend, title_fontsize=\"12\")\n",
    "    elif hue_column:\n",
    "        sns.barplot(data=data, x=x_column, y=y_column, hue=hue_column)\n",
    "        plt.legend(title=title_legend, title_fontsize=\"12\")\n",
    "    else:\n",
    "        sns.barplot(data=data, x=x_column, y=y_column)\n",
    "\n",
    "    if rotate != 0:\n",
    "        # Rotate x-axis labels if needed\n",
    "        plt.xticks(rotation=rotate)\n",
    "\n",
    "    plt.xticks(fontsize=x_fontsize)\n",
    "    plt.yticks(fontsize=x_fontsize)\n",
    "    plt.xlabel(x_label, fontsize=label_fontsize)\n",
    "    plt.ylabel(y_label, fontsize=label_fontsize)\n",
    "    plt.title(title)\n",
    "\n",
    "    plt.tight_layout()\n",
    "    if save:\n",
    "        plt.savefig(f'figures/{save_name}.png', format='png')\n",
    "    plt.show()\n"
   ]
  },
  {
   "cell_type": "code",
   "execution_count": 7,
   "metadata": {},
   "outputs": [],
   "source": [
    "import matplotlib.pyplot as plt\n",
    "import seaborn as sns\n",
    "\n",
    "def create_box_plot(data, x_column, y_column, title, x_label, y_label, ylim=None, figsize=(10, 6), x_rotation=0, hue=None, save=False, x_fontsize=16, y_fontsize=16, color_mapping=color_mapping, use_color_mapping = False, save_name= \"\"):\n",
    "    \"\"\"\n",
    "    Create a box plot using Seaborn.\n",
    "\n",
    "    Parameters:\n",
    "        data (DataFrame): The DataFrame containing the data.\n",
    "        x_column (str): The column name for the x-axis.\n",
    "        y_column (str): The column name for the y-axis.\n",
    "        title (str): The title for the plot.\n",
    "        x_label (str): The label for the x-axis.\n",
    "        y_label (str): The label for the y-axis.\n",
    "        ylim (tuple): A tuple specifying the y-axis limits (optional).\n",
    "        figsize (tuple): A tuple specifying the figure size (optional).\n",
    "        x_fontsize (int): Font size of the x-axis labels (optional).\n",
    "    \"\"\"\n",
    "    plt.figure(figsize=figsize)\n",
    "    if use_color_mapping == True:\n",
    "        sns.boxplot(data=data, x=x_column, y=y_column, hue=hue, palette=color_mapping)\n",
    "    else:\n",
    "        sns.boxplot(data=data, x=x_column, y=y_column, hue=hue)\n",
    "    plt.title(title)\n",
    "    plt.xlabel(x_label, fontsize=x_fontsize)\n",
    "    plt.ylabel(y_label, fontsize=y_fontsize)\n",
    "\n",
    "    plt.xticks(rotation=x_rotation, fontsize=x_fontsize)\n",
    "    plt.yticks(fontsize=y_fontsize)\n",
    "    plt.legend(title='', title_fontsize=\"14\")\n",
    "\n",
    "\n",
    "    if ylim:\n",
    "        plt.ylim(ylim[0], ylim[1])\n",
    "\n",
    "    plt.tight_layout()\n",
    "    if save:\n",
    "        plt.savefig(f'figures/{save_name}.png', format='png')\n",
    "    plt.show()\n"
   ]
  },
  {
   "cell_type": "code",
   "execution_count": 8,
   "metadata": {},
   "outputs": [],
   "source": [
    "def plot_metric_trend(dataframe: pd.DataFrame, x_column:str, y_column:str, color_column:str, default_colors:dict, title, y_range=None, frac=0.5, x_column_title='', y_column_title='',\n",
    "                      tickfont = 16, axes_title_font_size = 18, save_name=\"\"):\n",
    "    \"\"\"\n",
    "    Plots a scatter plot with LOWESS trendlines for the specified metric.\n",
    "\n",
    "    Parameters:\n",
    "    - dataframe: DataFrame containing the data to plot.\n",
    "    - x_column: String, the name of the column to be used on the x-axis.\n",
    "    - y_column: String, the name of the column to be used on the y-axis.\n",
    "    - color_column: String, the name of the column to be used for color grouping.\n",
    "    - default_colors: List, default colors for each group.\n",
    "    - title: String, title of the plot.\n",
    "    - y_range: Tuple or None, the range for the y-axis.\n",
    "    - frac: Float, fraction of data points used for LOWESS.\n",
    "\n",
    "    Returns:\n",
    "    - fig: Plotly figure object.\n",
    "    \"\"\"\n",
    "    color_mapping = default_colors\n",
    "\n",
    "    fig = px.scatter(dataframe, x=x_column, y=y_column, color=color_column,\n",
    "                     trendline=\"lowess\", color_discrete_map=color_mapping, trendline_options=dict(frac=frac),\n",
    "                     title=title)\n",
    "    fig.data = [t for t in fig.data if t.mode == \"lines\"]\n",
    "    fig.update_traces(showlegend=True) # trendlines have showlegend=False by default\n",
    "    # Update axis titles and tick label font sizes\n",
    "    fig.update_yaxes(title=y_column_title, range=y_range, title_font=dict(size=axes_title_font_size), tickfont=dict(size=tickfont))\n",
    "    fig.update_xaxes(title=x_column_title, title_font=dict(size=axes_title_font_size), tickfont=dict(size=tickfont))\n",
    "\n",
    "    fig.update_layout(legend=dict(\n",
    "        title='',\n",
    "        orientation=\"h\",\n",
    "        yanchor=\"bottom\",\n",
    "        y=1.02,\n",
    "        xanchor=\"right\",\n",
    "        x=1,\n",
    "        font=dict(\n",
    "            size=16\n",
    "        )\n",
    "    ))\n",
    "\n",
    "\n",
    "    apply_default_theme(fig)  # Assuming this function is defined elsewhere\n",
    "    pio.write_image(fig, f\"figures/{save_name}.png\", scale=2)\n"
   ]
  },
  {
   "cell_type": "code",
   "execution_count": 9,
   "metadata": {},
   "outputs": [],
   "source": [
    "def plot_spline_data(df, x_column, y_column, color_mapping, smoothing=0.4, y_column_title=\"\", x_column_title=\"\", y_range=[0,40], axes_title_font_size=12, tickfont=12, save_name=\"line_plot_running_time_dim\"):\n",
    "    \"\"\"\n",
    "    Plot benchmark data for each framework.\n",
    "\n",
    "    Args:\n",
    "    - benchmark_df_grouped_dim (DataFrame): DataFrame containing benchmark data grouped by dimension and framework.\n",
    "    - color_mapping (dict): Dictionary mapping framework names to colors.\n",
    "    - smoothing (float): Smoothing factor for the spline curves.\n",
    "\n",
    "    Returns:\n",
    "    - None (displays the plot)\n",
    "    \"\"\"\n",
    "    fig = go.Figure()\n",
    "    for framework, color in color_mapping.items():\n",
    "        filtered_df = df[df['framework'] == framework]\n",
    "        fig.add_trace(go.Scatter(\n",
    "            x=filtered_df[x_column],\n",
    "            y=filtered_df[y_column],\n",
    "            name=framework,\n",
    "            mode='lines',\n",
    "            line=dict(color=color, smoothing=smoothing),\n",
    "            line_shape='spline'\n",
    "        ))\n",
    "    \n",
    "    fig.update_yaxes(title=y_column_title, range=y_range, title_font=dict(size=axes_title_font_size), tickfont=dict(size=tickfont))\n",
    "    fig.update_xaxes(title=x_column_title, title_font=dict(size=axes_title_font_size), tickfont=dict(size=tickfont))\n",
    "    fig.update_layout(legend=dict(\n",
    "        title='',\n",
    "        orientation=\"h\",\n",
    "        yanchor=\"bottom\",\n",
    "        y=1.02,\n",
    "        xanchor=\"right\",\n",
    "        x=1,\n",
    "        font=dict(\n",
    "            size=16\n",
    "        )\n",
    "    ))\n",
    "\n",
    "\n",
    "    apply_default_theme(fig)  # Assuming this function is defined elsewhere\n",
    "    pio.write_image(fig, f\"figures/{save_name}.png\", scale=2)\n"
   ]
  },
  {
   "cell_type": "markdown",
   "metadata": {},
   "source": [
    "# Quality Criteria"
   ]
  },
  {
   "cell_type": "code",
   "execution_count": 10,
   "metadata": {},
   "outputs": [],
   "source": [
    "# Make a single dataframe from the framework experiments\n",
    "benchmark_df = pd.concat([autocluster_framework, csmartml_framework, automl4clust_framework, ml2dac_framework], ignore_index=True)\n",
    "benchmark_df.dropna(inplace=True)\n",
    "benchmark_df.reset_index(inplace=True, drop=True)"
   ]
  },
  {
   "cell_type": "code",
   "execution_count": 11,
   "metadata": {},
   "outputs": [],
   "source": [
    "# Define a custom aggregation function for population standard deviation\n",
    "def pop_std(x):\n",
    "    return x.std(ddof=0)"
   ]
  },
  {
   "cell_type": "code",
   "execution_count": 12,
   "metadata": {},
   "outputs": [
    {
     "name": "stderr",
     "output_type": "stream",
     "text": [
      "No artists with labels found to put in legend.  Note that artists whose label start with an underscore are ignored when legend() is called with no argument.\n"
     ]
    },
    {
     "data": {
      "image/png": "[encoded data removed]",
      "text/plain": [
       "<Figure size 1000x600 with 1 Axes>"
      ]
     },
     "metadata": {},
     "output_type": "display_data"
    }
   ],
   "source": [
    "create_box_plot(data=benchmark_df, x_column='framework', y_column='sil', x_label='',\n",
    "                y_label='SIL', ylim=[-1,1], hue='framework', title='', x_fontsize=20, use_color_mapping=True,\n",
    "                  save=True, save_name=\"box_plot_dataset_sil\")"
   ]
  },
  {
   "cell_type": "code",
   "execution_count": 13,
   "metadata": {},
   "outputs": [
    {
     "name": "stderr",
     "output_type": "stream",
     "text": [
      "No artists with labels found to put in legend.  Note that artists whose label start with an underscore are ignored when legend() is called with no argument.\n"
     ]
    },
    {
     "data": {
      "image/png": "[encoded data removed]",
      "text/plain": [
       "<Figure size 1000x600 with 1 Axes>"
      ]
     },
     "metadata": {},
     "output_type": "display_data"
    }
   ],
   "source": [
    "create_box_plot(data=benchmark_df, x_column='framework', y_column='ari', x_label='',\n",
    "                y_label='ARI', ylim=[-1,1], hue='framework', title='', x_fontsize=20, use_color_mapping=True,\n",
    "                  save=True, save_name=\"box_plot_dataset_ari\")"
   ]
  },
  {
   "cell_type": "code",
   "execution_count": 14,
   "metadata": {},
   "outputs": [
    {
     "name": "stderr",
     "output_type": "stream",
     "text": [
      "No artists with labels found to put in legend.  Note that artists whose label start with an underscore are ignored when legend() is called with no argument.\n"
     ]
    },
    {
     "data": {
      "image/png": "[encoded data removed]",
      "text/plain": [
       "<Figure size 1000x600 with 1 Axes>"
      ]
     },
     "metadata": {},
     "output_type": "display_data"
    }
   ],
   "source": [
    "create_box_plot(data=benchmark_df, x_column='framework', y_column='dbs', x_label='',\n",
    "                y_label='DBS', ylim=[0,6.5], hue='framework', title='', x_fontsize=20, use_color_mapping=True,\n",
    "                  save=True, save_name=\"box_plot_dataset_dbs\")"
   ]
  },
  {
   "cell_type": "code",
   "execution_count": 15,
   "metadata": {},
   "outputs": [
    {
     "name": "stderr",
     "output_type": "stream",
     "text": [
      "/home/licari/.local/lib/python3.10/site-packages/plotly/express/_core.py:2065: FutureWarning: When grouping with a length-1 list-like, you will need to pass a length-1 tuple to get_group in a future version of pandas. Pass `(name,)` instead of `name` to silence this warning.\n",
      "  sf: grouped.get_group(s if len(s) > 1 else s[0])\n"
     ]
    }
   ],
   "source": [
    "plot_metric_trend(dataframe=benchmark_df,\n",
    "                        x_column='dataset_dim',\n",
    "                        y_column='sil', \n",
    "                        color_column='framework',\n",
    "                        default_colors= color_mapping,\n",
    "                        title=\"\",\n",
    "                        y_range=[-1,1],\n",
    "                        x_column_title='Dataset dimension',\n",
    "                        y_column_title='Silhouette', \n",
    "                        save_name=\"trendline_sil_dataset_dim\")\n"
   ]
  },
  {
   "cell_type": "code",
   "execution_count": 16,
   "metadata": {},
   "outputs": [
    {
     "name": "stderr",
     "output_type": "stream",
     "text": [
      "/home/licari/.local/lib/python3.10/site-packages/plotly/express/_core.py:2065: FutureWarning:\n",
      "\n",
      "When grouping with a length-1 list-like, you will need to pass a length-1 tuple to get_group in a future version of pandas. Pass `(name,)` instead of `name` to silence this warning.\n",
      "\n"
     ]
    }
   ],
   "source": [
    "fig = plot_metric_trend(dataframe=benchmark_df,\n",
    "                        x_column='dataset_instances',\n",
    "                        y_column='sil', \n",
    "                        color_column='framework',\n",
    "                        default_colors= color_mapping,\n",
    "                        title=\"\",\n",
    "                        y_range=[0,1],\n",
    "                        x_column_title='Dataset instances',\n",
    "                        y_column_title='Silhouette',\n",
    "                        save_name=\"trendline_sil_dataset_instances\")"
   ]
  },
  {
   "cell_type": "code",
   "execution_count": 17,
   "metadata": {},
   "outputs": [
    {
     "name": "stderr",
     "output_type": "stream",
     "text": [
      "/home/licari/.local/lib/python3.10/site-packages/plotly/express/_core.py:2065: FutureWarning:\n",
      "\n",
      "When grouping with a length-1 list-like, you will need to pass a length-1 tuple to get_group in a future version of pandas. Pass `(name,)` instead of `name` to silence this warning.\n",
      "\n"
     ]
    }
   ],
   "source": [
    "fig = plot_metric_trend(dataframe=benchmark_df,\n",
    "                        x_column='dataset_dim',\n",
    "                        y_column='ari', \n",
    "                        color_column='framework',\n",
    "                        default_colors=color_mapping,\n",
    "                        title=\"\",\n",
    "                        y_range=[-1,1],\n",
    "                        x_column_title='Dataset dimension',\n",
    "                        y_column_title='Adjusted Rand',\n",
    "                        save_name=\"trendline_ari_dataset_dim\")\n"
   ]
  },
  {
   "cell_type": "code",
   "execution_count": 18,
   "metadata": {},
   "outputs": [
    {
     "name": "stderr",
     "output_type": "stream",
     "text": [
      "/home/licari/.local/lib/python3.10/site-packages/plotly/express/_core.py:2065: FutureWarning:\n",
      "\n",
      "When grouping with a length-1 list-like, you will need to pass a length-1 tuple to get_group in a future version of pandas. Pass `(name,)` instead of `name` to silence this warning.\n",
      "\n"
     ]
    }
   ],
   "source": [
    "fig = plot_metric_trend(dataframe=benchmark_df,\n",
    "                        x_column='dataset_instances',\n",
    "                        y_column='ari', \n",
    "                        color_column='framework',\n",
    "                        default_colors=color_mapping,\n",
    "                        title=\"\",\n",
    "                        y_range=[0,1],\n",
    "                        x_column_title='Dataset instances',\n",
    "                        y_column_title='Adjusted Rand',\n",
    "                        save_name=\"trendline_sil_dataset_instances\")"
   ]
  },
  {
   "cell_type": "code",
   "execution_count": 19,
   "metadata": {},
   "outputs": [
    {
     "name": "stderr",
     "output_type": "stream",
     "text": [
      "/home/licari/.local/lib/python3.10/site-packages/plotly/express/_core.py:2065: FutureWarning:\n",
      "\n",
      "When grouping with a length-1 list-like, you will need to pass a length-1 tuple to get_group in a future version of pandas. Pass `(name,)` instead of `name` to silence this warning.\n",
      "\n"
     ]
    }
   ],
   "source": [
    "fig = plot_metric_trend(dataframe=benchmark_df,\n",
    "                        x_column='dataset_dim',\n",
    "                        y_column='dbs', \n",
    "                        color_column='framework',\n",
    "                        default_colors= color_mapping,\n",
    "                        title=\"\",\n",
    "                        x_column_title='Dataset dimension',\n",
    "                        y_column_title='Davies Bouldin',\n",
    "                        save_name=\"trendline_dbs_dataset_dim\", \n",
    "                        y_range=[0,3])"
   ]
  },
  {
   "cell_type": "code",
   "execution_count": 20,
   "metadata": {},
   "outputs": [
    {
     "name": "stderr",
     "output_type": "stream",
     "text": [
      "/home/licari/.local/lib/python3.10/site-packages/plotly/express/_core.py:2065: FutureWarning:\n",
      "\n",
      "When grouping with a length-1 list-like, you will need to pass a length-1 tuple to get_group in a future version of pandas. Pass `(name,)` instead of `name` to silence this warning.\n",
      "\n"
     ]
    }
   ],
   "source": [
    "fig = plot_metric_trend(dataframe=benchmark_df,\n",
    "                        x_column='dataset_instances',\n",
    "                        y_column='dbs', \n",
    "                        color_column='framework',\n",
    "                        default_colors= color_mapping,\n",
    "                        title=\"\",\n",
    "                        x_column_title='Dataset instances',\n",
    "                        y_column_title='Davies Bouldin',\n",
    "                        save_name=\"trendline_dbs_dataset_instances\",\n",
    "                        y_range=[0,3])"
   ]
  },
  {
   "cell_type": "markdown",
   "metadata": {},
   "source": [
    "## Statistical Analysis"
   ]
  },
  {
   "cell_type": "code",
   "execution_count": 21,
   "metadata": {},
   "outputs": [
    {
     "name": "stderr",
     "output_type": "stream",
     "text": [
      "/home/licari/.local/lib/python3.10/site-packages/autorank/_util.py:432: FutureWarning:\n",
      "\n",
      "Series.__getitem__ treating keys as positions is deprecated. In a future version, integer keys will always be treated as labels (consistent with DataFrame behavior). To access a value by position, use `ser.iloc[pos]`\n",
      "\n",
      "/home/licari/.local/lib/python3.10/site-packages/autorank/_util.py:511: FutureWarning:\n",
      "\n",
      "Series.__getitem__ treating keys as positions is deprecated. In a future version, integer keys will always be treated as labels (consistent with DataFrame behavior). To access a value by position, use `ser.iloc[pos]`\n",
      "\n",
      "/home/licari/.local/lib/python3.10/site-packages/autorank/_util.py:512: FutureWarning:\n",
      "\n",
      "Series.__getitem__ treating keys as positions is deprecated. In a future version, integer keys will always be treated as labels (consistent with DataFrame behavior). To access a value by position, use `ser.iloc[pos]`\n",
      "\n",
      "/home/licari/.local/lib/python3.10/site-packages/autorank/_util.py:519: FutureWarning:\n",
      "\n",
      "Series.__getitem__ treating keys as positions is deprecated. In a future version, integer keys will always be treated as labels (consistent with DataFrame behavior). To access a value by position, use `ser.iloc[pos]`\n",
      "\n",
      "/home/licari/.local/lib/python3.10/site-packages/autorank/_util.py:520: FutureWarning:\n",
      "\n",
      "Series.__getitem__ treating keys as positions is deprecated. In a future version, integer keys will always be treated as labels (consistent with DataFrame behavior). To access a value by position, use `ser.iloc[pos]`\n",
      "\n",
      "/home/licari/.local/lib/python3.10/site-packages/autorank/_util.py:547: FutureWarning:\n",
      "\n",
      "Series.__getitem__ treating keys as positions is deprecated. In a future version, integer keys will always be treated as labels (consistent with DataFrame behavior). To access a value by position, use `ser.iloc[pos]`\n",
      "\n",
      "/home/licari/.local/lib/python3.10/site-packages/autorank/_util.py:548: FutureWarning:\n",
      "\n",
      "Series.__getitem__ treating keys as positions is deprecated. In a future version, integer keys will always be treated as labels (consistent with DataFrame behavior). To access a value by position, use `ser.iloc[pos]`\n",
      "\n"
     ]
    },
    {
     "name": "stdout",
     "output_type": "stream",
     "text": [
      "RankResult(rankdf=\n",
      "              meanrank      mean       std  ci_lower  ci_upper effect_size  \\\n",
      "framework                                                                    \n",
      "cSmartML      3.362637  0.236743  0.206832  0.169472  0.304013         0.0   \n",
      "AutoML4Clust  2.420000  0.356563  0.183558  0.299612  0.413514   -0.612761   \n",
      "Autocluster   2.335000  0.371300  0.158116  0.322242  0.420357    -0.73092   \n",
      "ML2DAC        1.825000  0.402128  0.183656  0.345147   0.45911   -0.845582   \n",
      "\n",
      "               magnitude  \n",
      "framework                 \n",
      "cSmartML      negligible  \n",
      "AutoML4Clust      medium  \n",
      "Autocluster       medium  \n",
      "ML2DAC             large  \n",
      "pvalue=nan\n",
      "cd=0.5684128931263431\n",
      "omnibus=friedman\n",
      "posthoc=nemenyi\n",
      "all_normal=True\n",
      "pvals_shapiro=[0.39827872755384836, 0.24859117428480987, 1.0, 0.0030880870265162404]\n",
      "homoscedastic=False\n",
      "pval_homogeneity=nan\n",
      "homogeneity_test=bartlett\n",
      "alpha=0.01\n",
      "alpha_normality=0.0025\n",
      "num_samples=100\n",
      "posterior_matrix=\n",
      "None\n",
      "decision_matrix=\n",
      "None\n",
      "rope=None\n",
      "rope_mode=None\n",
      "effect_size=cohen_d\n",
      "force_mode=None)\n"
     ]
    },
    {
     "data": {
      "image/png": "[encoded data removed]",
      "text/plain": [
       "<Figure size 600x165 with 1 Axes>"
      ]
     },
     "metadata": {},
     "output_type": "display_data"
    }
   ],
   "source": [
    "from autorank import autorank, plot_stats, create_report, latex_table\n",
    "columns_sil = ['sil', 'framework', 'dataset']\n",
    "columns_ari = ['ari', 'framework', 'dataset']\n",
    "columns_dbs = ['dbs', 'framework', 'dataset']\n",
    "benchmark_autorank_sil = benchmark_df[columns_sil].copy()\n",
    "benchmark_autorank_ari = benchmark_df[columns_ari].copy()\n",
    "benchmark_autorank_dbs = benchmark_df[columns_dbs].copy()\n",
    "\n",
    "pivot_benchmark_sil = pd.pivot_table(benchmark_autorank_sil, index='dataset', columns='framework', values='sil')\n",
    "sil_result = autorank(pivot_benchmark_sil, alpha=0.01, verbose=False, rope=0.4)\n",
    "print(sil_result)\n",
    "plot_stats(sil_result)\n",
    "plt.savefig(\"figures/cd_sil.png\")\n",
    "plt.show()\n"
   ]
  },
  {
   "cell_type": "code",
   "execution_count": 22,
   "metadata": {},
   "outputs": [
    {
     "name": "stdout",
     "output_type": "stream",
     "text": [
      "RankResult(rankdf=\n",
      "              meanrank    median       mad  ci_lower  ci_upper effect_size  \\\n",
      "framework                                                                    \n",
      "cSmartML      3.241758  0.418497       NaN  0.192713  0.561287         NaN   \n",
      "AutoML4Clust  2.360000  0.642920  0.245699  0.470741  0.883793         NaN   \n",
      "Autocluster   2.265000  0.660215  0.226894  0.465734  0.848285         NaN   \n",
      "ML2DAC        2.065000  0.881525   0.10992  0.513781  0.945084         NaN   \n",
      "\n",
      "             magnitude  \n",
      "framework               \n",
      "cSmartML         large  \n",
      "AutoML4Clust     large  \n",
      "Autocluster      large  \n",
      "ML2DAC           large  \n",
      "pvalue=nan\n",
      "cd=0.5684128931263431\n",
      "omnibus=friedman\n",
      "posthoc=nemenyi\n",
      "all_normal=False\n",
      "pvals_shapiro=[5.628607610834832e-06, 1.2146978326866395e-11, 1.0, 3.2849625536194224e-06]\n",
      "homoscedastic=False\n",
      "pval_homogeneity=nan\n",
      "homogeneity_test=levene\n",
      "alpha=0.01\n",
      "alpha_normality=0.0025\n",
      "num_samples=100\n",
      "posterior_matrix=\n",
      "None\n",
      "decision_matrix=\n",
      "None\n",
      "rope=None\n",
      "rope_mode=None\n",
      "effect_size=akinshin_gamma\n",
      "force_mode=None)\n"
     ]
    },
    {
     "name": "stderr",
     "output_type": "stream",
     "text": [
      "/home/licari/.local/lib/python3.10/site-packages/autorank/_util.py:432: FutureWarning:\n",
      "\n",
      "Series.__getitem__ treating keys as positions is deprecated. In a future version, integer keys will always be treated as labels (consistent with DataFrame behavior). To access a value by position, use `ser.iloc[pos]`\n",
      "\n",
      "/home/licari/.local/lib/python3.10/site-packages/autorank/_util.py:511: FutureWarning:\n",
      "\n",
      "Series.__getitem__ treating keys as positions is deprecated. In a future version, integer keys will always be treated as labels (consistent with DataFrame behavior). To access a value by position, use `ser.iloc[pos]`\n",
      "\n",
      "/home/licari/.local/lib/python3.10/site-packages/autorank/_util.py:512: FutureWarning:\n",
      "\n",
      "Series.__getitem__ treating keys as positions is deprecated. In a future version, integer keys will always be treated as labels (consistent with DataFrame behavior). To access a value by position, use `ser.iloc[pos]`\n",
      "\n",
      "/home/licari/.local/lib/python3.10/site-packages/autorank/_util.py:519: FutureWarning:\n",
      "\n",
      "Series.__getitem__ treating keys as positions is deprecated. In a future version, integer keys will always be treated as labels (consistent with DataFrame behavior). To access a value by position, use `ser.iloc[pos]`\n",
      "\n",
      "/home/licari/.local/lib/python3.10/site-packages/autorank/_util.py:520: FutureWarning:\n",
      "\n",
      "Series.__getitem__ treating keys as positions is deprecated. In a future version, integer keys will always be treated as labels (consistent with DataFrame behavior). To access a value by position, use `ser.iloc[pos]`\n",
      "\n",
      "/home/licari/.local/lib/python3.10/site-packages/autorank/_util.py:547: FutureWarning:\n",
      "\n",
      "Series.__getitem__ treating keys as positions is deprecated. In a future version, integer keys will always be treated as labels (consistent with DataFrame behavior). To access a value by position, use `ser.iloc[pos]`\n",
      "\n",
      "/home/licari/.local/lib/python3.10/site-packages/autorank/_util.py:548: FutureWarning:\n",
      "\n",
      "Series.__getitem__ treating keys as positions is deprecated. In a future version, integer keys will always be treated as labels (consistent with DataFrame behavior). To access a value by position, use `ser.iloc[pos]`\n",
      "\n"
     ]
    },
    {
     "data": {
      "image/png": "[encoded data removed]",
      "text/plain": [
       "<Figure size 600x155 with 1 Axes>"
      ]
     },
     "metadata": {},
     "output_type": "display_data"
    }
   ],
   "source": [
    "pivot_benchmark_ari = pd.pivot_table(benchmark_autorank_ari, index='dataset', columns='framework', values='ari')\n",
    "ari_result = autorank(pivot_benchmark_ari, alpha=0.01, verbose=False, rope=0.4)\n",
    "print(ari_result)\n",
    "plot_stats(ari_result, allow_insignificant=True)\n",
    "plt.savefig(\"figures/cd_ari.png\")\n",
    "plt.show()"
   ]
  },
  {
   "cell_type": "code",
   "execution_count": 23,
   "metadata": {},
   "outputs": [
    {
     "name": "stdout",
     "output_type": "stream",
     "text": [
      "RankResult(rankdf=\n",
      "              meanrank    median       mad  ci_lower  ci_upper effect_size  \\\n",
      "framework                                                                    \n",
      "ML2DAC        2.200000  1.199795  0.530923  0.863105  1.924827         0.0   \n",
      "Autocluster   2.465000  1.366573  0.552746  0.932737  1.909116   -0.207568   \n",
      "cSmartML      2.598901  1.309755       NaN  0.997992  1.851781         NaN   \n",
      "AutoML4Clust  2.610000  1.335991  0.577395  0.887266  1.896867   -0.165624   \n",
      "\n",
      "               magnitude  \n",
      "framework                 \n",
      "ML2DAC        negligible  \n",
      "Autocluster        small  \n",
      "cSmartML           large  \n",
      "AutoML4Clust  negligible  \n",
      "pvalue=nan\n",
      "cd=0.5684128931263431\n",
      "omnibus=friedman\n",
      "posthoc=nemenyi\n",
      "all_normal=False\n",
      "pvals_shapiro=[1.0, 5.540856663722256e-15, 3.62209948843431e-06, 2.3308153530122227e-12]\n",
      "homoscedastic=False\n",
      "pval_homogeneity=nan\n",
      "homogeneity_test=levene\n",
      "alpha=0.01\n",
      "alpha_normality=0.0025\n",
      "num_samples=100\n",
      "posterior_matrix=\n",
      "None\n",
      "decision_matrix=\n",
      "None\n",
      "rope=None\n",
      "rope_mode=None\n",
      "effect_size=akinshin_gamma\n",
      "force_mode=None)\n"
     ]
    },
    {
     "name": "stderr",
     "output_type": "stream",
     "text": [
      "/home/licari/.local/lib/python3.10/site-packages/autorank/_util.py:432: FutureWarning:\n",
      "\n",
      "Series.__getitem__ treating keys as positions is deprecated. In a future version, integer keys will always be treated as labels (consistent with DataFrame behavior). To access a value by position, use `ser.iloc[pos]`\n",
      "\n",
      "/home/licari/.local/lib/python3.10/site-packages/autorank/_util.py:511: FutureWarning:\n",
      "\n",
      "Series.__getitem__ treating keys as positions is deprecated. In a future version, integer keys will always be treated as labels (consistent with DataFrame behavior). To access a value by position, use `ser.iloc[pos]`\n",
      "\n",
      "/home/licari/.local/lib/python3.10/site-packages/autorank/_util.py:512: FutureWarning:\n",
      "\n",
      "Series.__getitem__ treating keys as positions is deprecated. In a future version, integer keys will always be treated as labels (consistent with DataFrame behavior). To access a value by position, use `ser.iloc[pos]`\n",
      "\n",
      "/home/licari/.local/lib/python3.10/site-packages/autorank/_util.py:519: FutureWarning:\n",
      "\n",
      "Series.__getitem__ treating keys as positions is deprecated. In a future version, integer keys will always be treated as labels (consistent with DataFrame behavior). To access a value by position, use `ser.iloc[pos]`\n",
      "\n",
      "/home/licari/.local/lib/python3.10/site-packages/autorank/_util.py:520: FutureWarning:\n",
      "\n",
      "Series.__getitem__ treating keys as positions is deprecated. In a future version, integer keys will always be treated as labels (consistent with DataFrame behavior). To access a value by position, use `ser.iloc[pos]`\n",
      "\n",
      "/home/licari/.local/lib/python3.10/site-packages/autorank/_util.py:547: FutureWarning:\n",
      "\n",
      "Series.__getitem__ treating keys as positions is deprecated. In a future version, integer keys will always be treated as labels (consistent with DataFrame behavior). To access a value by position, use `ser.iloc[pos]`\n",
      "\n",
      "/home/licari/.local/lib/python3.10/site-packages/autorank/_util.py:548: FutureWarning:\n",
      "\n",
      "Series.__getitem__ treating keys as positions is deprecated. In a future version, integer keys will always be treated as labels (consistent with DataFrame behavior). To access a value by position, use `ser.iloc[pos]`\n",
      "\n"
     ]
    },
    {
     "data": {
      "image/png": "[encoded data removed]",
      "text/plain": [
       "<Figure size 600x155 with 1 Axes>"
      ]
     },
     "metadata": {},
     "output_type": "display_data"
    }
   ],
   "source": [
    "pivot_benchmark_dbs = pd.pivot_table(benchmark_autorank_dbs, index='dataset', columns='framework', values='dbs')\n",
    "dbs_result = autorank(pivot_benchmark_dbs, alpha=0.01, verbose=False, rope=0.4, order='ascending')\n",
    "print(dbs_result)\n",
    "plot_stats(dbs_result)\n",
    "plt.savefig(\"figures/cd_dbs.png\")\n",
    "plt.show()"
   ]
  },
  {
   "cell_type": "markdown",
   "metadata": {},
   "source": [
    "## BBT"
   ]
  },
  {
   "cell_type": "code",
   "execution_count": 24,
   "metadata": {},
   "outputs": [],
   "source": [
    "def get_pivot_df_framework_per_score(df, index, col, values, col_to_consider = []):\n",
    "    df = df[col_to_consider].copy()\n",
    "    return df.pivot_table(index=index, columns=col, values=values, aggfunc='mean')\n",
    "\n",
    "get_pivot_df_framework_per_score(benchmark_df, 'dataset', 'framework', 'sil', ['dataset', 'framework', 'sil']).to_csv('bbt_data/bbtcomp_sil.csv')\n",
    "get_pivot_df_framework_per_score(benchmark_df, 'dataset', 'framework', 'ari', ['dataset', 'framework', 'ari']).to_csv('bbt_data/bbtcomp_ari.csv')\n",
    "get_pivot_df_framework_per_score(benchmark_df, 'dataset', 'framework', 'dbs', ['dataset', 'framework', 'dbs']).to_csv('bbt_data/bbtcomp_dbs.csv')\n"
   ]
  },
  {
   "cell_type": "markdown",
   "metadata": {},
   "source": [
    "# Scalability"
   ]
  },
  {
   "cell_type": "code",
   "execution_count": 25,
   "metadata": {},
   "outputs": [],
   "source": [
    "col_to_consider = [\"dataset_dim\", \"dataset_instances\", \"framework\", \"monitoring_memory\", \"running_time_min\"]\n",
    "benchmark_df_grouped_dim = benchmark_df[col_to_consider].groupby(by=['dataset_dim', 'framework'], as_index=False).mean().reset_index(drop=True)\n",
    "benchmark_df_grouped_dim = benchmark_df_grouped_dim[['dataset_dim', 'framework', 'running_time_min']]"
   ]
  },
  {
   "cell_type": "code",
   "execution_count": 26,
   "metadata": {},
   "outputs": [],
   "source": [
    "# Figure 3\n",
    "plot_spline_data(benchmark_df_grouped_dim, x_column=\"dataset_dim\", y_column=\"running_time_min\", color_mapping=color_mapping,\n",
    "                 y_column_title=\"Running Time (min)\", x_column_title=\"Dataset dimension\")"
   ]
  },
  {
   "cell_type": "code",
   "execution_count": 27,
   "metadata": {},
   "outputs": [
    {
     "name": "stderr",
     "output_type": "stream",
     "text": [
      "/home/licari/.local/lib/python3.10/site-packages/plotly/express/_core.py:2065: FutureWarning:\n",
      "\n",
      "When grouping with a length-1 list-like, you will need to pass a length-1 tuple to get_group in a future version of pandas. Pass `(name,)` instead of `name` to silence this warning.\n",
      "\n"
     ]
    }
   ],
   "source": [
    "benchmark_df_grouped_inst = benchmark_df[col_to_consider].groupby(by=['dataset_instances', 'framework'], as_index=False).mean().reset_index(drop=True)\n",
    "benchmark_df_grouped_inst = benchmark_df_grouped_inst[['dataset_instances', 'framework', 'running_time_min']]\n",
    "#Figure 4 (a)\n",
    "plot_metric_trend(dataframe=benchmark_df_grouped_inst,\n",
    "                        x_column='dataset_instances',\n",
    "                        y_column='running_time_min', \n",
    "                        color_column='framework',\n",
    "                        default_colors=color_mapping,\n",
    "                        title=\"\",\n",
    "                        x_column_title='Dataset instances',\n",
    "                        y_column_title='Mean running time (min)',\n",
    "                        save_name=\"trendline_running_time_min_per_dataset_instances\")\n"
   ]
  },
  {
   "cell_type": "code",
   "execution_count": 28,
   "metadata": {},
   "outputs": [
    {
     "name": "stderr",
     "output_type": "stream",
     "text": [
      "/home/licari/.local/lib/python3.10/site-packages/plotly/express/_core.py:2065: FutureWarning:\n",
      "\n",
      "When grouping with a length-1 list-like, you will need to pass a length-1 tuple to get_group in a future version of pandas. Pass `(name,)` instead of `name` to silence this warning.\n",
      "\n"
     ]
    }
   ],
   "source": [
    "#Figure 4 (b)\n",
    "fig = plot_metric_trend(dataframe=benchmark_df_grouped_dim,\n",
    "                        x_column='dataset_dim',\n",
    "                        y_column='running_time_min', \n",
    "                        color_column='framework',\n",
    "                        default_colors=color_mapping,\n",
    "                        title=\"\",\n",
    "                        x_column_title='Dataset dimension',\n",
    "                        y_column_title='Mean running time (min)',\n",
    "                        save_name=\"trendline_running_time_min_per_dataset_dim\")"
   ]
  }
 ],
 "metadata": {
  "kernelspec": {
   "display_name": "base",
   "language": "python",
   "name": "python3"
  },
  "language_info": {
   "codemirror_mode": {
    "name": "ipython",
    "version": 3
   },
   "file_extension": ".py",
   "mimetype": "text/x-python",
   "name": "python",
   "nbconvert_exporter": "python",
   "pygments_lexer": "ipython3",
   "version": "3.10.12"
  }
 },
 "nbformat": 4,
 "nbformat_minor": 2
}
