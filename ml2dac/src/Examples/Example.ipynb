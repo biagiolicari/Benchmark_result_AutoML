{
 "cells": [
  {
   "cell_type": "markdown",
   "id": "df3f0002",
   "metadata": {},
   "source": [
    "# Examples for ML2DAC\n",
    "\n",
    "In this notebook, we show examples on how to user our approach. Especially, how to set parameters and apply it on a custom dataset. Note that we use the MetaKnowledgeRepository (MKR) that we have created with the LearningPhase.py script. Hence, have a look at that script on how to built the MKR or how to extend it."
   ]
  },
  {
   "cell_type": "code",
   "execution_count": 1,
   "id": "6fa3e178",
   "metadata": {},
   "outputs": [
    {
     "ename": "ModuleNotFoundError",
     "evalue": "No module named 'MetaLearning'",
     "output_type": "error",
     "traceback": [
      "\u001b[0;31m---------------------------------------------------------------------------\u001b[0m",
      "\u001b[0;31mModuleNotFoundError\u001b[0m                       Traceback (most recent call last)",
      "\u001b[1;32m/home/licari/AutoMLExperiments/ml2dac/src/Examples/Example.ipynb Cella 2\u001b[0m line \u001b[0;36m1\n\u001b[0;32m----> <a href='vscode-notebook-cell://ssh-remote%2B140.105.50.88/home/licari/AutoMLExperiments/ml2dac/src/Examples/Example.ipynb#W1sdnNjb2RlLXJlbW90ZQ%3D%3D?line=0'>1</a>\u001b[0m \u001b[39mfrom\u001b[39;00m \u001b[39mMetaLearning\u001b[39;00m\u001b[39m.\u001b[39;00m\u001b[39mApplicationPhase\u001b[39;00m \u001b[39mimport\u001b[39;00m ApplicationPhase\n\u001b[1;32m      <a href='vscode-notebook-cell://ssh-remote%2B140.105.50.88/home/licari/AutoMLExperiments/ml2dac/src/Examples/Example.ipynb#W1sdnNjb2RlLXJlbW90ZQ%3D%3D?line=1'>2</a>\u001b[0m \u001b[39mfrom\u001b[39;00m \u001b[39mMetaLearning\u001b[39;00m \u001b[39mimport\u001b[39;00m MetaFeatureExtractor\n\u001b[1;32m      <a href='vscode-notebook-cell://ssh-remote%2B140.105.50.88/home/licari/AutoMLExperiments/ml2dac/src/Examples/Example.ipynb#W1sdnNjb2RlLXJlbW90ZQ%3D%3D?line=2'>3</a>\u001b[0m \u001b[39mfrom\u001b[39;00m \u001b[39mpathlib\u001b[39;00m \u001b[39mimport\u001b[39;00m Path\n",
      "\u001b[0;31mModuleNotFoundError\u001b[0m: No module named 'MetaLearning'"
     ]
    }
   ],
   "source": [
    "from MetaLearning.ApplicationPhase import ApplicationPhase\n",
    "from MetaLearning import MetaFeatureExtractor\n",
    "from pathlib import Path\n",
    "from pandas.core.common import SettingWithCopyWarning\n",
    "import warnings\n",
    "warnings.filterwarnings(category=RuntimeWarning, action=\"ignore\")\n",
    "warnings.filterwarnings(category=SettingWithCopyWarning, action=\"ignore\")\n",
    "import numpy as np\n",
    "np.random.seed(0)\n",
    "# Specify where to find our MKR\n",
    "# TODO: How to fix the path issue?\n",
    "mkr_path = Path(\"/home/licari/AutoMLExperiments/ml2dac/src/MetaKnowledgeRepository/\")\n",
    "\n",
    "# Specify meta-feature set to use. This is the set General+Stats+Info \n",
    "mf_set = MetaFeatureExtractor.meta_feature_sets[4]"
   ]
  },
  {
   "cell_type": "markdown",
   "id": "c1d2a81d",
   "metadata": {},
   "source": [
    "## Example on a simple synthetic dataset"
   ]
  },
  {
   "cell_type": "markdown",
   "id": "16df4297",
   "metadata": {},
   "source": [
    "First create a simple synthetic dataset."
   ]
  },
  {
   "cell_type": "code",
   "execution_count": 2,
   "id": "13c390b4",
   "metadata": {},
   "outputs": [],
   "source": [
    "# Create simple synthetic dataset\n",
    "from sklearn.datasets import make_blobs\n",
    "# We expect the data as numpy arrays\n",
    "X,y = make_blobs(n_samples=1000, n_features=10, random_state=0)\n",
    "\n",
    "# We also use a name to describe/identify this dataset\n",
    "dataset_name = \"simple_blobs_n1000_f10\""
   ]
  },
  {
   "cell_type": "markdown",
   "id": "be66d8f5",
   "metadata": {},
   "source": [
    "Specify some parameter settings of our approach."
   ]
  },
  {
   "cell_type": "code",
   "execution_count": 3,
   "id": "205094fe",
   "metadata": {},
   "outputs": [],
   "source": [
    "# Parameters of our approach. This can be customized\n",
    "n_warmstarts = 5 # Number of warmstart configurations (has to be smaller than n_loops)\n",
    "n_loops = 10 # Number of optimizer loops. This is n_loops = n_warmstarts + x\n",
    "limit_cs = True # Reduces the search space to suitable algorithms, dependening on warmstart configurations\n",
    "time_limit = 120 * 60 # Time limit of overall optimization --> Aborts earlier if n_loops not finished but time_limit reached\n",
    "cvi = \"predict\" # We want to predict a cvi based on our meta-knowledge"
   ]
  },
  {
   "cell_type": "markdown",
   "id": "3c63ed25",
   "metadata": {},
   "source": [
    "Instantiate our ML2DAC approach."
   ]
  },
  {
   "cell_type": "code",
   "execution_count": 7,
   "id": "d2fd3542",
   "metadata": {},
   "outputs": [],
   "source": [
    "ML2DAC = ApplicationPhase(mkr_path=mkr_path, mf_set=mf_set)"
   ]
  },
  {
   "cell_type": "markdown",
   "id": "93acad87",
   "metadata": {},
   "source": [
    "Run the optimization procedure."
   ]
  },
  {
   "cell_type": "code",
   "execution_count": null,
   "id": "c308f27d",
   "metadata": {},
   "outputs": [],
   "source": [
    "optimizer_result, additional_info = ML2DAC.optimize_with_meta_learning(X, n_warmstarts=n_warmstarts,\n",
    "                                                                       n_optimizer_loops=n_loops, \n",
    "                                                                       limit_cs=limit_cs,\n",
    "                                                                       cvi=cvi, time_limit=time_limit,\n",
    "                                                                       dataset_name=dataset_name)"
   ]
  },
  {
   "cell_type": "markdown",
   "id": "784028fe",
   "metadata": {},
   "source": [
    "The result contains two parts: (1) opimizer_result, which contains a history of the executed configurations in their executed order, with their runtime and the scores of the selected CVI, and (2) additional_info, which has some basic information of our meta-learning procedure, i.e., how long the meta-feature extraction took, the selected CVI, the algorithms that we used in the configuraiton space, and the dataset from the MKR that was most similar to the new dataset."
   ]
  },
  {
   "cell_type": "code",
   "execution_count": 9,
   "id": "88f84e8f",
   "metadata": {},
   "outputs": [
    {
     "data": {
      "text/html": [
       "<div>\n",
       "<style scoped>\n",
       "    .dataframe tbody tr th:only-of-type {\n",
       "        vertical-align: middle;\n",
       "    }\n",
       "\n",
       "    .dataframe tbody tr th {\n",
       "        vertical-align: top;\n",
       "    }\n",
       "\n",
       "    .dataframe thead th {\n",
       "        text-align: right;\n",
       "    }\n",
       "</style>\n",
       "<table border=\"1\" class=\"dataframe\">\n",
       "  <thead>\n",
       "    <tr style=\"text-align: right;\">\n",
       "      <th></th>\n",
       "      <th>runtime</th>\n",
       "      <th>CH</th>\n",
       "      <th>config</th>\n",
       "      <th>labels</th>\n",
       "    </tr>\n",
       "  </thead>\n",
       "  <tbody>\n",
       "    <tr>\n",
       "      <th>0</th>\n",
       "      <td>0.061319</td>\n",
       "      <td>-8.709795e+02</td>\n",
       "      <td>{'algorithm': 'ward', 'n_clusters': 10}</td>\n",
       "      <td>[6, 5, 5, 1, 4, 5, 5, 8, 9, 7, 0, 0, 1, 1, 4, ...</td>\n",
       "    </tr>\n",
       "    <tr>\n",
       "      <th>1</th>\n",
       "      <td>0.049947</td>\n",
       "      <td>-1.315794e+03</td>\n",
       "      <td>{'algorithm': 'dbscan', 'eps': 0.9536790514390...</td>\n",
       "      <td>[0, 0, 0, 1, 2, 0, 0, 1, 0, 2, 1, 1, 1, 1, 2, ...</td>\n",
       "    </tr>\n",
       "    <tr>\n",
       "      <th>2</th>\n",
       "      <td>0.057392</td>\n",
       "      <td>-9.082660e+02</td>\n",
       "      <td>{'algorithm': 'ward', 'n_clusters': 2}</td>\n",
       "      <td>[0, 0, 0, 0, 1, 0, 0, 0, 0, 1, 0, 0, 0, 0, 1, ...</td>\n",
       "    </tr>\n",
       "    <tr>\n",
       "      <th>3</th>\n",
       "      <td>0.054900</td>\n",
       "      <td>-1.164188e+03</td>\n",
       "      <td>{'algorithm': 'dbscan', 'eps': 0.9059743386946...</td>\n",
       "      <td>[0, 0, 0, 1, 2, 0, 0, 1, 0, 2, 1, 1, 1, 1, 2, ...</td>\n",
       "    </tr>\n",
       "    <tr>\n",
       "      <th>4</th>\n",
       "      <td>0.051790</td>\n",
       "      <td>-1.072988e+03</td>\n",
       "      <td>{'algorithm': 'dbscan', 'eps': 0.8878634391450...</td>\n",
       "      <td>[0, 0, 0, 1, 2, 0, 0, 1, 0, 2, -1, 1, 1, 1, 2,...</td>\n",
       "    </tr>\n",
       "    <tr>\n",
       "      <th>5</th>\n",
       "      <td>0.051290</td>\n",
       "      <td>-9.542423e+02</td>\n",
       "      <td>{'algorithm': 'dbscan', 'eps': 0.9703480015377...</td>\n",
       "      <td>[0, 0, 0, 1, 2, 0, -1, 1, -1, 2, -1, 1, 1, 1, ...</td>\n",
       "    </tr>\n",
       "    <tr>\n",
       "      <th>6</th>\n",
       "      <td>0.051499</td>\n",
       "      <td>-8.181264e+02</td>\n",
       "      <td>{'algorithm': 'dbscan', 'eps': 0.96, 'min_samp...</td>\n",
       "      <td>[0, 0, 0, 1, 2, 0, 0, 1, 0, 2, 1, 1, 1, 1, 2, ...</td>\n",
       "    </tr>\n",
       "    <tr>\n",
       "      <th>7</th>\n",
       "      <td>0.050556</td>\n",
       "      <td>-1.335773e+02</td>\n",
       "      <td>{'algorithm': 'dbscan', 'eps': 0.96, 'min_samp...</td>\n",
       "      <td>[-1, -1, -1, 1, 0, -1, -1, -1, -1, 0, -1, 1, 1...</td>\n",
       "    </tr>\n",
       "    <tr>\n",
       "      <th>8</th>\n",
       "      <td>0.046074</td>\n",
       "      <td>2.147484e+09</td>\n",
       "      <td>{'algorithm': 'dbscan', 'eps': 0.79, 'min_samp...</td>\n",
       "      <td>[-1, -1, -1, -1, -1, -1, -1, -1, -1, -1, -1, -...</td>\n",
       "    </tr>\n",
       "    <tr>\n",
       "      <th>9</th>\n",
       "      <td>0.048987</td>\n",
       "      <td>-6.649217e+02</td>\n",
       "      <td>{'algorithm': 'dbscan', 'eps': 0.95, 'min_samp...</td>\n",
       "      <td>[0, 0, 0, 2, 1, 0, -1, 2, -1, 1, -1, 2, 2, 2, ...</td>\n",
       "    </tr>\n",
       "  </tbody>\n",
       "</table>\n",
       "</div>"
      ],
      "text/plain": [
       "    runtime            CH                                             config  \\\n",
       "0  0.061319 -8.709795e+02            {'algorithm': 'ward', 'n_clusters': 10}   \n",
       "1  0.049947 -1.315794e+03  {'algorithm': 'dbscan', 'eps': 0.9536790514390...   \n",
       "2  0.057392 -9.082660e+02             {'algorithm': 'ward', 'n_clusters': 2}   \n",
       "3  0.054900 -1.164188e+03  {'algorithm': 'dbscan', 'eps': 0.9059743386946...   \n",
       "4  0.051790 -1.072988e+03  {'algorithm': 'dbscan', 'eps': 0.8878634391450...   \n",
       "5  0.051290 -9.542423e+02  {'algorithm': 'dbscan', 'eps': 0.9703480015377...   \n",
       "6  0.051499 -8.181264e+02  {'algorithm': 'dbscan', 'eps': 0.96, 'min_samp...   \n",
       "7  0.050556 -1.335773e+02  {'algorithm': 'dbscan', 'eps': 0.96, 'min_samp...   \n",
       "8  0.046074  2.147484e+09  {'algorithm': 'dbscan', 'eps': 0.79, 'min_samp...   \n",
       "9  0.048987 -6.649217e+02  {'algorithm': 'dbscan', 'eps': 0.95, 'min_samp...   \n",
       "\n",
       "                                              labels  \n",
       "0  [6, 5, 5, 1, 4, 5, 5, 8, 9, 7, 0, 0, 1, 1, 4, ...  \n",
       "1  [0, 0, 0, 1, 2, 0, 0, 1, 0, 2, 1, 1, 1, 1, 2, ...  \n",
       "2  [0, 0, 0, 0, 1, 0, 0, 0, 0, 1, 0, 0, 0, 0, 1, ...  \n",
       "3  [0, 0, 0, 1, 2, 0, 0, 1, 0, 2, 1, 1, 1, 1, 2, ...  \n",
       "4  [0, 0, 0, 1, 2, 0, 0, 1, 0, 2, -1, 1, 1, 1, 2,...  \n",
       "5  [0, 0, 0, 1, 2, 0, -1, 1, -1, 2, -1, 1, 1, 1, ...  \n",
       "6  [0, 0, 0, 1, 2, 0, 0, 1, 0, 2, 1, 1, 1, 1, 2, ...  \n",
       "7  [-1, -1, -1, 1, 0, -1, -1, -1, -1, 0, -1, 1, 1...  \n",
       "8  [-1, -1, -1, -1, -1, -1, -1, -1, -1, -1, -1, -...  \n",
       "9  [0, 0, 0, 2, 1, 0, -1, 2, -1, 1, -1, 2, 2, 2, ...  "
      ]
     },
     "execution_count": 9,
     "metadata": {},
     "output_type": "execute_result"
    }
   ],
   "source": [
    "optimizer_result.get_runhistory_df()"
   ]
  },
  {
   "cell_type": "code",
   "execution_count": 10,
   "id": "ac9f1cef",
   "metadata": {},
   "outputs": [
    {
     "data": {
      "text/plain": [
       "{'dataset': 'simple_blobs_n1000_f10',\n",
       " 'mf time': 1.1253306865692139,\n",
       " 'similar dataset': ['type=gaussian-k=10-n=1000-d=10-noise=0',\n",
       "  'type=varied-k=10-n=1000-d=10-noise=0'],\n",
       " 'cvi': 'CH',\n",
       " 'algorithms': ['ward', 'dbscan']}"
      ]
     },
     "execution_count": 10,
     "metadata": {},
     "output_type": "execute_result"
    }
   ],
   "source": [
    "additional_info"
   ]
  },
  {
   "cell_type": "markdown",
   "id": "37af78be",
   "metadata": {},
   "source": [
    "Now we retrieve the best configuration with its predicted clustering labels and compare it against the ground-truth clustering."
   ]
  },
  {
   "cell_type": "code",
   "execution_count": 11,
   "id": "7750d671",
   "metadata": {},
   "outputs": [
    {
     "name": "stderr",
     "output_type": "stream",
     "text": [
      "/home/tschecds/anaconda3/envs/auto_consensus/lib/python3.9/site-packages/pandas/core/frame.py:1485: FutureWarning: Using short name for 'orient' is deprecated. Only the options: ('dict', list, 'series', 'split', 'records', 'index') will be used in a future version. Use one of the above to silence this warning.\n",
      "  warnings.warn(\n"
     ]
    },
    {
     "data": {
      "text/plain": [
       "{'runtime': 0.04994654655456543,\n",
       " 'CH': -1315.7939310607555,\n",
       " 'config': {'algorithm': 'dbscan',\n",
       "  'eps': 0.9536790514390626,\n",
       "  'min_samples': 3},\n",
       " 'labels': array([ 0,  0,  0,  1,  2,  0,  0,  1,  0,  2,  1,  1,  1,  1,  2,  0,  0,\n",
       "         0, -1, -1,  1,  1,  2,  1,  1,  1,  1,  0,  0,  2,  0,  2,  1,  2,\n",
       "         0,  2,  0,  1,  2,  1,  2,  1,  0,  2,  1,  1,  2,  2,  0,  2,  0,\n",
       "         2,  0,  0,  0,  2,  0,  2,  2,  0,  0,  1,  2,  1,  2,  0,  0,  1,\n",
       "         1,  2,  2,  0, -1,  1,  1,  1,  2,  1,  1,  1,  2,  0,  0,  0,  0,\n",
       "         1,  0,  1,  2,  0,  2,  1,  2,  1,  2,  0,  1,  0,  2,  2,  1,  1,\n",
       "         0, -1,  0,  0,  1,  1,  2,  1,  1,  1,  2,  0,  0,  0,  2,  1,  2,\n",
       "         1,  1,  0,  1,  2,  0, -1,  0,  0,  1,  2,  0,  1,  2,  1,  1,  0,\n",
       "         2,  0,  2,  2,  0,  0,  0,  2,  0,  0,  2,  2,  2, -1,  0,  1,  1,\n",
       "         2,  1,  2,  2,  1,  0,  2,  0,  0,  1,  2,  0,  1,  1,  0,  1,  1,\n",
       "         1,  2,  2,  2,  0,  2,  1,  1,  1,  1,  0,  1,  2,  0,  1,  2,  1,\n",
       "         0,  0,  0,  2,  1,  1,  1,  0,  2,  0, -1,  2,  0,  2,  2,  1,  2,\n",
       "         2,  0,  0,  1,  1,  0,  2,  2,  1,  0,  2,  2,  2,  2,  2,  2,  0,\n",
       "         1,  0,  2,  0,  2,  0, -1,  1,  0,  1,  1,  2, -1,  1,  2,  0, -1,\n",
       "         1,  2, -1,  0,  0,  1,  0,  2,  0,  2,  2,  1,  2,  2,  2,  1,  0,\n",
       "         1,  0,  1,  2,  2,  1, -1,  2,  0,  1,  2,  1,  1,  1,  1,  1,  1,\n",
       "         2,  2,  1,  1,  0,  2,  1, -1,  2,  1,  0,  0,  2, -1, -1, -1,  1,\n",
       "        -1,  0, -1,  0,  2,  0,  1,  0,  0,  0,  2,  1,  1,  2,  2,  1,  2,\n",
       "         0,  1,  0,  1,  0,  2,  1,  0,  1,  1,  2,  1,  2,  1,  0,  0,  2,\n",
       "         2,  2,  1,  0,  0,  0,  1,  2,  1,  1,  2,  1,  0,  0,  1,  2,  2,\n",
       "         1,  2,  1, -1,  1,  0,  2,  2,  1,  2,  2,  1,  2,  0,  1,  2,  2,\n",
       "         1,  0,  1,  0,  2,  2,  0,  2,  0,  1,  0,  2,  1,  0,  2,  2,  1,\n",
       "         0,  1,  0,  2,  1,  1,  1, -1,  0,  0,  0,  0,  1,  2,  0,  2,  2,\n",
       "        -1,  1,  2,  2,  0,  1,  1,  0,  2,  2,  1,  0,  0,  1,  2,  1,  0,\n",
       "         0,  2,  2,  1,  2,  0,  0,  2,  1,  2, -1,  0, -1,  0, -1,  2,  2,\n",
       "         2,  2,  0,  2,  2,  1,  2,  1,  0,  1,  0,  1,  0,  2,  0, -1,  0,\n",
       "         2,  0,  0,  0,  0,  2,  2,  2,  2,  2,  2,  1,  2,  0,  0,  1,  0,\n",
       "         0,  0, -1,  0,  0,  0,  0,  1,  0, -1,  0, -1,  0,  1,  1,  2,  1,\n",
       "         0,  2,  1,  0,  2,  2,  1,  0, -1,  0,  1,  2,  0,  1,  2,  0,  2,\n",
       "         1,  0,  2,  0,  0,  0,  1,  0,  0,  2,  2, -1, -1,  1,  2,  0,  0,\n",
       "         0,  1,  1, -1,  2,  2,  0,  0,  2,  2,  1,  1,  1,  0,  1,  1,  0,\n",
       "         1,  0,  1,  1,  0,  2,  1,  2,  2,  1, -1,  0,  1,  0,  1,  2,  2,\n",
       "         1,  0,  1,  2,  2,  1,  2,  1,  2,  0,  1,  0,  2,  1,  1,  2,  2,\n",
       "        -1,  0,  2,  1,  0,  1,  0,  2,  2,  0,  0,  1, -1,  2,  2,  0,  1,\n",
       "         2,  0,  1,  1,  1,  1,  1,  2,  0,  1,  0,  2,  2,  2,  0,  2,  1,\n",
       "         2,  0,  2,  0,  1,  1,  1,  0,  1,  0,  1,  1,  2, -1,  2,  2,  0,\n",
       "         2,  1,  2,  1,  2, -1,  0,  1,  1,  1,  1,  0,  1,  2,  1,  1,  1,\n",
       "         0,  2,  1,  0,  0,  0,  1,  2,  2,  1,  1,  0,  0,  1,  0,  0,  2,\n",
       "         0,  1,  2,  2,  2,  0,  2,  1,  1,  1,  0,  1,  1,  0,  1,  1,  0,\n",
       "         1,  1,  0,  1,  0,  2,  0,  1,  2,  0,  2,  2,  2,  1,  2,  1,  2,\n",
       "         0,  0,  2,  1,  1,  1,  2,  0,  2,  1,  1, -1,  1,  2, -1,  1,  2,\n",
       "         2,  1,  1, -1, -1, -1,  0,  0, -1,  2, -1,  1,  1,  0,  2,  1,  0,\n",
       "         2,  0,  0,  2,  1,  1,  2,  2,  1,  2,  2,  1,  0,  0,  2,  2,  2,\n",
       "         2,  2,  1,  0,  1,  1,  2,  0,  2,  0,  0,  2,  2,  2,  0,  1,  0,\n",
       "         2,  2,  1,  0,  2,  2,  2,  0,  1,  2,  2,  1,  0,  2,  0,  0,  1,\n",
       "         1,  0,  1,  2,  0,  2,  0,  2,  2,  2,  2,  0,  1,  1,  2,  0,  2,\n",
       "         1,  1,  1,  1,  0, -1,  2, -1,  0,  0,  0,  0,  0,  1,  1,  0,  2,\n",
       "         0,  2,  2,  1,  2,  2,  0, -1,  2,  0,  0,  0,  0,  2, -1,  1,  2,\n",
       "         0,  2,  1,  2,  0,  1,  2,  1,  2,  0,  2,  1, -1,  0,  1,  1,  0,\n",
       "         1,  1,  0,  1,  0,  1,  2,  1,  0,  2,  1,  0,  0,  0,  1,  1,  1,\n",
       "         1,  1,  0,  1,  2, -1,  0,  2,  2,  0,  1,  2,  2,  2,  2,  1,  1,\n",
       "         2,  1, -1,  2,  0,  2,  0,  0,  0,  0,  0,  1,  1, -1,  2,  1,  1,\n",
       "         1,  1,  2,  0,  1,  0,  0,  2,  2,  2,  2,  0,  2,  0,  1,  0,  0,\n",
       "         2,  0,  0,  1,  0,  2, -1,  1,  1,  0,  2,  0,  2,  0,  0,  2,  0,\n",
       "         0,  0,  2,  2,  2,  0,  2,  2,  0,  0,  0,  0, -1,  0,  1,  2,  2,\n",
       "         2,  2,  1,  2,  2,  0,  1,  2,  2,  1,  0,  1,  1,  2,  1,  0,  0,\n",
       "         1,  0,  1,  2,  2,  2,  2,  1,  2,  1,  2,  0,  1,  0,  1,  0,  2,\n",
       "         2,  2,  2,  1,  2,  0,  0,  2,  1,  2,  1,  1,  0,  0,  0,  0,  0,\n",
       "         0,  2,  2,  1,  1,  2,  1,  1,  1,  0,  0,  1,  2,  1])}"
      ]
     },
     "execution_count": 11,
     "metadata": {},
     "output_type": "execute_result"
    }
   ],
   "source": [
    "best_config_stats = optimizer_result.get_incumbent_stats()\n",
    "best_config_stats"
   ]
  },
  {
   "cell_type": "code",
   "execution_count": 12,
   "id": "9c6a132f",
   "metadata": {},
   "outputs": [],
   "source": [
    "predicted_labels = best_config_stats[\"labels\"]"
   ]
  },
  {
   "cell_type": "code",
   "execution_count": 13,
   "id": "4021d73e",
   "metadata": {},
   "outputs": [
    {
     "data": {
      "text/plain": [
       "0.9170231805482065"
      ]
     },
     "execution_count": 13,
     "metadata": {},
     "output_type": "execute_result"
    }
   ],
   "source": [
    "from sklearn.metrics import adjusted_rand_score\n",
    "adjusted_rand_score(predicted_labels, y)"
   ]
  }
 ],
 "metadata": {
  "kernelspec": {
   "display_name": "Python 3 (ipykernel)",
   "language": "python",
   "name": "python3"
  },
  "language_info": {
   "codemirror_mode": {
    "name": "ipython",
    "version": 3
   },
   "file_extension": ".py",
   "mimetype": "text/x-python",
   "name": "python",
   "nbconvert_exporter": "python",
   "pygments_lexer": "ipython3",
   "version": "3.9.18"
  }
 },
 "nbformat": 4,
 "nbformat_minor": 5
}
